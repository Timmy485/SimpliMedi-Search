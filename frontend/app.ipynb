{
 "cells": [
  {
   "cell_type": "code",
   "execution_count": 63,
   "metadata": {},
   "outputs": [
    {
     "data": {
      "text/plain": [
       "True"
      ]
     },
     "execution_count": 63,
     "metadata": {},
     "output_type": "execute_result"
    }
   ],
   "source": [
    "import json\n",
    "import os\n",
    "import logging\n",
    "import requests\n",
    "from dotenv import load_dotenv\n",
    "load_dotenv()"
   ]
  },
  {
   "cell_type": "code",
   "execution_count": 64,
   "metadata": {},
   "outputs": [],
   "source": [
    "CUSTOMER_ID = os.environ.get('CUSTOMER_ID')\n",
    "CORPUS_ID = os.environ.get('CORPUS_ID')\n",
    "API_KEY = os.environ.get('API_KEY')\n",
    "AUTH_URL = os.environ.get('AUTH_URL')\n",
    "APP_CLIENT_ID = os.environ.get('APP_CLIENT_ID')\n",
    "APP_CLIENT_SECRET = os.environ.get('APP_CLIENT_SECRET')\n",
    "IDX_ADDRESS = os.environ.get('IDX_ADDRESS')\n",
    "TONIC_VALIDATE_API_KEY = os.environ.get(\"TONIC_VALIDATE_API_KEY\")\n",
    "os.environ[\"OPENAI_API_KEY\"] = os.environ.get(\"OPENAI_API_KEY\")"
   ]
  },
  {
   "cell_type": "markdown",
   "metadata": {},
   "source": [
    "## Create Corpus"
   ]
  },
  {
   "cell_type": "code",
   "execution_count": null,
   "metadata": {},
   "outputs": [],
   "source": [
    "def _get_create_corpus_json():\n",
    "    \"\"\" Returns a create corpus json. \"\"\"\n",
    "    corpus = {\n",
    "        \"name\": \"Vectara Test Corpus(Python)\",\n",
    "        \"description\": \"An example corpus generated via REST API from Python code.\",\n",
    "    }\n",
    "    return json.dumps({\"corpus\":corpus})\n",
    "\n",
    "def create_corpus(customer_id: int, admin_address: str, jwt_token: str):\n",
    "    \"\"\"Create a corpus.\n",
    "    Args:\n",
    "        customer_id: Unique customer ID in vectara platform.\n",
    "        admin_address: Address of the admin server. e.g., api.vectara.io\n",
    "        jwt_token: A valid Auth token.\n",
    "\n",
    "    Returns:\n",
    "        (response, True) in case of success and returns (error, False) in case of failure.\n",
    "    \"\"\"\n",
    "\n",
    "    post_headers = {\n",
    "        \"customer-id\": f\"{customer_id}\",\n",
    "        \"Authorization\": f\"Bearer {jwt_token}\"\n",
    "    }\n",
    "    response = requests.post(\n",
    "        f\"https://{admin_address}/v1/create-corpus\",\n",
    "        data=_get_create_corpus_json(),\n",
    "        verify=True,\n",
    "        headers=post_headers)\n",
    "\n",
    "    if response.status_code != 200:\n",
    "        logging.error(\"Create Corpus failed with code %d, reason %s, text %s\",\n",
    "                       response.status_code,\n",
    "                       response.reason,\n",
    "                       response.text)\n",
    "        return response, False\n",
    "\n",
    "    message = response.json()\n",
    "    if message[\"status\"] and message[\"status\"][\"code\"] != \"OK\":\n",
    "        logging.error(\"Create Corpus failed with status: %s\", message[\"status\"])\n",
    "        return message[\"status\"], False\n",
    "\n",
    "    return message, True"
   ]
  },
  {
   "cell_type": "markdown",
   "metadata": {},
   "source": [
    "## Delete Corpus"
   ]
  },
  {
   "cell_type": "code",
   "execution_count": null,
   "metadata": {},
   "outputs": [],
   "source": [
    "def _get_delete_corpus_json(customer_id: int, corpus_id: int):\n",
    "    \"\"\"Returns a delete corpus JSON.\"\"\"\n",
    "    corpus = {\n",
    "        \"customer_id\": customer_id,\n",
    "        \"corpus_id\": corpus_id,\n",
    "    }\n",
    "\n",
    "    return json.dumps(corpus)\n",
    "\n",
    "def delete_corpus(customer_id: int, corpus_id: int, admin_address: str, jwt_token: str):\n",
    "    \"\"\"Deletes a corpus.\n",
    "\n",
    "    Args:\n",
    "        customer_id: Unique customer ID in vectara platform.\n",
    "        corpus_id: Corpus ID in vectara platform.\n",
    "        admin_address: Address of the admin server. e.g., api.vectara.io\n",
    "        jwt_token: A valid Auth token.\n",
    "\n",
    "    Returns:\n",
    "        (response, True) in case of success and returns (error, False) in case of failure.\n",
    "    \"\"\"\n",
    "    post_headers = {\n",
    "        \"customer-id\": f\"{customer_id}\",\n",
    "        \"Authorization\": f\"Bearer {jwt_token}\"\n",
    "    }\n",
    "    response = requests.post(\n",
    "        f\"https://{admin_address}/v1/delete-corpus\",\n",
    "        data=_get_delete_corpus_json(customer_id, corpus_id),\n",
    "        verify=True,\n",
    "        headers=post_headers)\n",
    "\n",
    "    if response.status_code != 200:\n",
    "        logging.error(\"Delete Corpus failed with code %d, reason %s, text %s\",\n",
    "                       response.status_code,\n",
    "                       response.reason,\n",
    "                       response.text)\n",
    "        return response, False\n",
    "\n",
    "    message = response.json()\n",
    "    if message[\"status\"] and message[\"status\"][\"code\"] != \"OK\":\n",
    "        logging.error(\"Delete Corpus failed with status: %s\", message.status)\n",
    "        return message.status, False\n",
    "\n",
    "    return message, True"
   ]
  },
  {
   "cell_type": "markdown",
   "metadata": {},
   "source": [
    "## Reset Corpus"
   ]
  },
  {
   "cell_type": "code",
   "execution_count": null,
   "metadata": {},
   "outputs": [],
   "source": [
    "def _get_reset_corpus_json(customer_id: int, corpus_id: int):\n",
    "    \"\"\" Returns a reset corpus json. \"\"\"\n",
    "    corpus = {\n",
    "        \"customer_id\": customer_id,\n",
    "        \"corpus_id\": corpus_id,\n",
    "    }\n",
    "\n",
    "    return json.dumps(corpus)\n",
    "\n",
    "def reset_corpus(customer_id: int, corpus_id: int, admin_address: str, jwt_token: str):\n",
    "    \"\"\"Reset a corpus.\n",
    "    Args:\n",
    "        customer_id: Unique customer ID in vectara platform.\n",
    "        corpus_id: Corpus ID in vectara platform.\n",
    "        admin_address: Address of the admin server. e.g., api.vectara.io\n",
    "        jwt_token: A valid Auth token.\n",
    "\n",
    "    Returns:\n",
    "        (response, True) in case of success and returns (error, False) in case of failure.\n",
    "    \"\"\"\n",
    "\n",
    "    post_headers = {\n",
    "        \"customer-id\": f\"{customer_id}\",\n",
    "        \"Authorization\": f\"Bearer {jwt_token}\"\n",
    "    }\n",
    "    response = requests.post(\n",
    "        f\"https://{admin_address}/v1/reset-corpus\",\n",
    "        data=_get_reset_corpus_json(customer_id, corpus_id),\n",
    "        verify=True,\n",
    "        headers=post_headers)\n",
    "\n",
    "    if response.status_code != 200:\n",
    "        logging.error(\"Reset Corpus failed with code %d, reason %s, text %s\",\n",
    "                       response.status_code,\n",
    "                       response.reason,\n",
    "                       response.text)\n",
    "        return response, False\n",
    "\n",
    "    message = response.json()\n",
    "    if message[\"status\"] and message[\"status\"][\"code\"] != \"OK\":\n",
    "        logging.error(\"Delete Corpus failed with status: %s\", message.status)\n",
    "        return message.status, False\n",
    "\n",
    "    return message, True"
   ]
  },
  {
   "cell_type": "markdown",
   "metadata": {},
   "source": [
    "## File Upload"
   ]
  },
  {
   "cell_type": "code",
   "execution_count": 3,
   "metadata": {},
   "outputs": [],
   "source": [
    "def get_jwt_token():\n",
    "    \"\"\"Get JWT token from authentication service.\"\"\"\n",
    "    auth_url = AUTH_URL\n",
    "    client_id = APP_CLIENT_ID\n",
    "    client_secret = APP_CLIENT_SECRET\n",
    "\n",
    "    data = {\n",
    "        \"grant_type\": \"client_credentials\",\n",
    "        \"client_id\": client_id,\n",
    "        \"client_secret\": client_secret\n",
    "    }\n",
    "\n",
    "    headers = {\n",
    "        \"Content-Type\": \"application/x-www-form-urlencoded\"\n",
    "    }\n",
    "\n",
    "    response = requests.post(auth_url, headers=headers, data=data)\n",
    "\n",
    "    if response.status_code == 200:\n",
    "        response_data = response.json()\n",
    "        return response_data.get(\"access_token\")\n",
    "    else:\n",
    "        print(\"Error:\", response.text)\n",
    "        return None"
   ]
  },
  {
   "cell_type": "code",
   "execution_count": 102,
   "metadata": {},
   "outputs": [],
   "source": [
    "def upload_file(customer_id: int, corpus_id: int, idx_address: str, jwt_token: str, file_path: str):\n",
    "    \"\"\"Uploads a file to the corpus.\n",
    "\n",
    "    Args:\n",
    "        customer_id: Unique customer ID in vectara platform.\n",
    "        corpus_id: ID of the corpus to which data needs to be indexed.\n",
    "        idx_address: Address of the indexing server. e.g., api.vectara.io\n",
    "        jwt_token: A valid Auth token.\n",
    "        file_path: Path to the file to be uploaded.\n",
    "\n",
    "    Returns:\n",
    "        (response, True) in case of success and returns (error, False) in case of failure.\n",
    "    \"\"\"\n",
    "\n",
    "    # Extract filename from the file path\n",
    "    filename = os.path.basename(file_path)\n",
    "\n",
    "    post_headers = {\n",
    "        \"Authorization\": f\"Bearer {jwt_token}\"\n",
    "    }\n",
    "    with open(file_path, 'rb') as file:\n",
    "        response = requests.post(\n",
    "            f\"https://{idx_address}/v1/upload?c={customer_id}&o={corpus_id}\",\n",
    "            files={\"file\": (file.name, file, \"application/octet-stream\")},\n",
    "            data={\"doc_metadata\": f'{{\"filename\": \"{filename}\"}}'},\n",
    "            verify=True,\n",
    "            headers=post_headers)\n",
    "\n",
    "    if response.status_code != 200:\n",
    "        logging.error(\"REST upload failed with code %d, reason %s, text %s\",\n",
    "                       response.status_code,\n",
    "                       response.reason,\n",
    "                       response.text)\n",
    "        return response, False\n",
    "\n",
    "    message = response.json()[\"response\"]\n",
    "    # An empty status indicates success.\n",
    "    if message[\"status\"] and message[\"status\"][\"code\"] not in (\"OK\", \"ALREADY_EXISTS\"):\n",
    "        logging.error(\"REST upload failed with status: %s\", message[\"status\"])\n",
    "        return message[\"status\"], False\n",
    "\n",
    "    return message, True\n",
    "\n",
    "\n",
    "def upload_files_in_directory(customer_id: int, corpus_id: int, idx_address: str, directory_path: str):\n",
    "    \"\"\"Uploads all files in a directory to the corpus.\n",
    "\n",
    "    Args:\n",
    "        customer_id: Unique customer ID in Vectara platform.\n",
    "        corpus_id: ID of the corpus to which data needs to be indexed.\n",
    "        idx_address: Address of the indexing server. e.g., api.vectara.io\n",
    "        directory_path: Path to the directory containing files to be uploaded.\n",
    "\n",
    "    Returns:\n",
    "        A list of tuples containing (response, success) for each file upload.\n",
    "    \"\"\"\n",
    "    jwt_token = get_jwt_token()\n",
    "    if not jwt_token:\n",
    "        return []\n",
    "\n",
    "    file_uploads = []\n",
    "    for file_name in os.listdir(directory_path):\n",
    "        file_path = os.path.join(directory_path, file_name)\n",
    "        if os.path.isfile(file_path):\n",
    "            response, success = upload_file(customer_id, corpus_id, idx_address, jwt_token, file_path)\n",
    "            file_uploads.append((response, success))\n",
    "    return file_uploads\n"
   ]
  },
  {
   "cell_type": "code",
   "execution_count": 108,
   "metadata": {},
   "outputs": [
    {
     "data": {
      "text/plain": [
       "[({'status': {},\n",
       "   'quotaConsumed': {'numChars': '2126', 'numMetadataChars': '887'}},\n",
       "  True),\n",
       " ({'status': {},\n",
       "   'quotaConsumed': {'numChars': '2271', 'numMetadataChars': '840'}},\n",
       "  True),\n",
       " ({'status': {},\n",
       "   'quotaConsumed': {'numChars': '2262', 'numMetadataChars': '845'}},\n",
       "  True),\n",
       " ({'status': {},\n",
       "   'quotaConsumed': {'numChars': '2321', 'numMetadataChars': '948'}},\n",
       "  True),\n",
       " ({'status': {},\n",
       "   'quotaConsumed': {'numChars': '2049', 'numMetadataChars': '737'}},\n",
       "  True),\n",
       " ({'status': {},\n",
       "   'quotaConsumed': {'numChars': '2093', 'numMetadataChars': '894'}},\n",
       "  True),\n",
       " ({'status': {},\n",
       "   'quotaConsumed': {'numChars': '3344', 'numMetadataChars': '1024'}},\n",
       "  True),\n",
       " ({'status': {},\n",
       "   'quotaConsumed': {'numChars': '2278', 'numMetadataChars': '840'}},\n",
       "  True),\n",
       " ({'status': {},\n",
       "   'quotaConsumed': {'numChars': '2161', 'numMetadataChars': '835'}},\n",
       "  True),\n",
       " ({'status': {},\n",
       "   'quotaConsumed': {'numChars': '2121', 'numMetadataChars': '842'}},\n",
       "  True),\n",
       " ({'status': {},\n",
       "   'quotaConsumed': {'numChars': '1996', 'numMetadataChars': '896'}},\n",
       "  True)]"
      ]
     },
     "execution_count": 108,
     "metadata": {},
     "output_type": "execute_result"
    }
   ],
   "source": [
    "upload_files_in_directory(customer_id=CUSTOMER_ID, corpus_id=CORPUS_ID, idx_address='api.vectara.io', directory_path=\"corpus\")"
   ]
  },
  {
   "cell_type": "code",
   "execution_count": 106,
   "metadata": {},
   "outputs": [
    {
     "data": {
      "text/plain": [
       "[({'status': {'code': 'ALREADY_EXISTS'},\n",
       "   'quotaConsumed': {'numChars': '1996', 'numMetadataChars': '896'}},\n",
       "  True)]"
      ]
     },
     "execution_count": 106,
     "metadata": {},
     "output_type": "execute_result"
    }
   ],
   "source": [
    "abs_temp_dir = os.path.abspath(\"temp\")\n",
    "upload_files_in_directory(\n",
    "            customer_id=CUSTOMER_ID,\n",
    "            corpus_id=CORPUS_ID,\n",
    "            idx_address=\"api.vectara.io\",\n",
    "            directory_path=abs_temp_dir,\n",
    "        )"
   ]
  },
  {
   "cell_type": "markdown",
   "metadata": {},
   "source": [
    "## Query Corpus"
   ]
  },
  {
   "cell_type": "code",
   "execution_count": 38,
   "metadata": {},
   "outputs": [],
   "source": [
    "# Dictionary mapping language names to their lowercase initials\n",
    "language_initials = {\n",
    "    \"English\": \"eng\",\n",
    "    \"German\": \"deu\",\n",
    "    \"French\": \"fra\",\n",
    "    \"Chinese\": \"zho\",\n",
    "    \"Korean\": \"kor\",\n",
    "    \"Arabic\": \"ara\",\n",
    "    \"Russian\": \"rus\",\n",
    "    \"Thai\": \"tha\",\n",
    "    \"Dutch\": \"nld\",\n",
    "    \"Italian\": \"ita\",\n",
    "    \"Portuguese\": \"por\",\n",
    "    \"Spanish\": \"spa\",\n",
    "    \"Japanese\": \"jpn\",\n",
    "    \"Polish\": \"pol\",\n",
    "    \"Turkish\": \"tur\",\n",
    "    \"Vietnamese\": \"vie\",\n",
    "    \"Indonesian\": \"ind\",\n",
    "    \"Czech\": \"ces\",\n",
    "    \"Ukrainian\": \"ukr\",\n",
    "    \"Greek\": \"ell\",\n",
    "    \"Hebrew\": \"heb\",\n",
    "    \"Farsi/Persian\": \"fas\",\n",
    "    \"Hindi\": \"hin\",\n",
    "    \"Urdu\": \"urd\",\n",
    "    \"Swedish\": \"swe\",\n",
    "    \"Bengali\": \"ben\",\n",
    "    \"Malay\": \"msa\",\n",
    "    \"Romanian\": \"ron\"\n",
    "}\n",
    "\n",
    "models = {\n",
    "    \"GPT-3.5-Turbo\" : \"vectara-summary-ext-v1.2.0\",\n",
    "    \"GPT-4-Turbo\" : \"vectara-summary-ext-v1.3.0\"\n",
    "}"
   ]
  },
  {
   "cell_type": "code",
   "execution_count": 55,
   "metadata": {},
   "outputs": [],
   "source": [
    "def _get_query_json(\n",
    "    customer_id: int,\n",
    "    corpus_id: int,\n",
    "    query_value: str,\n",
    "    summarizer_prompt_name,\n",
    "    response_lang,\n",
    "    top_k=5,\n",
    "    max_summarized_results=10,\n",
    "    lambda_val=0.025\n",
    "):\n",
    "    \"\"\"Returns a query JSON.\"\"\"\n",
    "    query = {\n",
    "        \"query\": [\n",
    "            {\n",
    "                \"query\": query_value,\n",
    "                \"num_results\": top_k,\n",
    "                \"corpus_key\": [\n",
    "                        {\n",
    "                            \"customer_id\": customer_id, \n",
    "                            \"corpus_id\": corpus_id,\n",
    "                            \"lexicalInterpolationConfig\": {\"lambda\":lambda_val},\n",
    "                        }\n",
    "                            ],\n",
    "                \"summary\": [\n",
    "                    {\n",
    "                        \"summarizerPromptName\": summarizer_prompt_name, #vectara-summary-ext-v1.2.0 (gpt-3.5-turbo) vectara-summary-ext-v1.3.0 (gpt-4.0)\n",
    "                        \"responseLang\": response_lang, #auto to auto-detect\n",
    "                        \"maxSummarizedResults\": max_summarized_results,\n",
    "                        \"factual_consistency_score\": True,\n",
    "                    }\n",
    "                ],\n",
    "            },\n",
    "        ],\n",
    "    }\n",
    "    return json.dumps(query)\n",
    "\n",
    "\n",
    "def query_corpus(\n",
    "    customer_id: int, corpus_id: int, query_address: str, jwt_token: str, query: str\n",
    "):\n",
    "    \"\"\"Queries the data.\n",
    "\n",
    "    Args:\n",
    "        customer_id: Unique customer ID in vectara platform.\n",
    "        corpus_id: ID of the corpus to which data needs to be indexed.\n",
    "        query_address: Address of the querying server. e.g., api.vectara.io\n",
    "        jwt_token: A valid Auth token.\n",
    "\n",
    "    Returns:\n",
    "        (response, True) in case of success and returns (error, False) in case of failure.\n",
    "\n",
    "    \"\"\"\n",
    "    post_headers = {\n",
    "        \"customer-id\": f\"{customer_id}\",\n",
    "        \"Authorization\": f\"Bearer {jwt_token}\",\n",
    "    }\n",
    "\n",
    "    response = requests.post(\n",
    "        f\"https://{query_address}/v1/query\",\n",
    "        data=_get_query_json(customer_id, corpus_id, query, models[\"GPT-4-Turbo\"], language_initials[\"English\"]),\n",
    "        verify=True,\n",
    "        headers=post_headers,\n",
    "    )\n",
    "\n",
    "    if response.status_code != 200:\n",
    "        logging.error(\n",
    "            \"Query failed with code %d, reason %s, text %s\",\n",
    "            response.status_code,\n",
    "            response.reason,\n",
    "            response.text,\n",
    "        )\n",
    "        return response, False\n",
    "\n",
    "\n",
    "    message = response.json()\n",
    "    if (message[\"status\"] and\n",
    "        any(status[\"code\"] != \"OK\" for status in message[\"status\"])):\n",
    "        logging.error(\"Query failed with status: %s\", message[\"status\"])\n",
    "        return message[\"status\"], False\n",
    "\n",
    "\n",
    "    responses = message[\"responseSet\"][0][\"response\"]\n",
    "    documents = message[\"responseSet\"][0][\"document\"]\n",
    "    summary = message[\"responseSet\"][0][\"summary\"][0][\"text\"]\n",
    "    factual_consistency_score = message[\"responseSet\"][0][\"summary\"][0][\"factualConsistency\"][\"score\"]\n",
    "\n",
    "    res = [[r['text'], r['score']] for r in responses]\n",
    "    return res, summary, factual_consistency_score, documents"
   ]
  },
  {
   "cell_type": "code",
   "execution_count": 68,
   "metadata": {},
   "outputs": [
    {
     "data": {
      "text/plain": [
       "'John Doe, born on May 17, 1985, visited Sunrise Health Medical Center due to severe, intermittent abdominal pain and persistent nausea he had been experiencing over the last 48 hours [2]. His primary diagnosis was chronic kidney disease, stage 3 [3]. His physical examination results indicated a stable chronic condition [4]. His blood pressure was slightly high at 140/90 mmHg [4], which was being managed with ACE inhibitors [3]. He was also referred to a nephrologist for ongoing management of his condition and a dietitian for consultation on kidney health [3]. His condition was expected to be managed with potential stabilization [3]. His known allergies include penicillin, and he has a past medical history of asthma and high blood pressure [2].'"
      ]
     },
     "execution_count": 68,
     "metadata": {},
     "output_type": "execute_result"
    }
   ],
   "source": [
    "query_txt = \"which was John Doe's condition?\"\n",
    "results, summary, score, documents = query_corpus(CUSTOMER_ID, CORPUS_ID, IDX_ADDRESS, get_jwt_token(), query_txt)\n",
    "summary"
   ]
  },
  {
   "cell_type": "code",
   "execution_count": 57,
   "metadata": {},
   "outputs": [
    {
     "data": {
      "text/plain": [
       "0.7441291"
      ]
     },
     "execution_count": 57,
     "metadata": {},
     "output_type": "execute_result"
    }
   ],
   "source": [
    "score"
   ]
  },
  {
   "cell_type": "code",
   "execution_count": 73,
   "metadata": {},
   "outputs": [
    {
     "data": {
      "text/plain": [
       "3"
      ]
     },
     "execution_count": 73,
     "metadata": {},
     "output_type": "execute_result"
    }
   ],
   "source": [
    "len(documents)"
   ]
  },
  {
   "cell_type": "markdown",
   "metadata": {},
   "source": [
    "## Validate With Tonic Validate"
   ]
  },
  {
   "cell_type": "code",
   "execution_count": 61,
   "metadata": {},
   "outputs": [],
   "source": [
    "from tonic_validate import ValidateScorer, Benchmark, LLMResponse, ValidateApi\n",
    "from tonic_validate.metrics import (\n",
    "    AnswerSimilarityMetric,\n",
    "    RetrievalPrecisionMetric,\n",
    "    AugmentationPrecisionMetric,\n",
    "    AugmentationAccuracyMetric,\n",
    "    AnswerConsistencyMetric\n",
    ")\n",
    "import time\n",
    "import datetime\n",
    "from tqdm import tqdm"
   ]
  },
  {
   "cell_type": "code",
   "execution_count": 65,
   "metadata": {},
   "outputs": [],
   "source": [
    "from tonic_validate import ValidateApi\n",
    "validate_api = ValidateApi(TONIC_VALIDATE_API_KEY)\n",
    "benchmark = validate_api.get_benchmark(\"fff9af14-643e-4bfd-b565-e8761c1dca88\")"
   ]
  },
  {
   "cell_type": "code",
   "execution_count": 67,
   "metadata": {},
   "outputs": [
    {
     "data": {
      "text/plain": [
       "[BenchmarkItem(question='What was the followup plan for Charlotte Gonzalez', answer='Neurology follow-up after MRI results', benchmark_id=None),\n",
       " BenchmarkItem(question='Why did Amelia Sanchez visit the hospital?', answer='Routine check-up for celiac disease management.', benchmark_id=None),\n",
       " BenchmarkItem(question='Does Amelia Sanchez have any known allergies?', answer='Gluten', benchmark_id=None),\n",
       " BenchmarkItem(question='Which doctor took care of Benjamin Lee', answer='Dr. Richard Kim', benchmark_id=None),\n",
       " BenchmarkItem(question=\"What is Amelia Sanchez's date of birth?\", answer='October 23, 1989', benchmark_id=None),\n",
       " BenchmarkItem(question='Which doctor took care of Amelia Sanchez?', answer='Dr. Anita Gupta with qualifications in MD, Gastroenterology ', benchmark_id=None),\n",
       " BenchmarkItem(question='What is the medical history of Benjamin Lee', answer='Chronic kidney disease ', benchmark_id=None),\n",
       " BenchmarkItem(question='What was the treatment plan for Amelia Sanchez?', answer='Medications Prescribed: None \\nReferrals to Specialists: None required currently \\nPhysiotherapy or Other Rehabilitative Services: Continued dietary management', benchmark_id=None),\n",
       " BenchmarkItem(question='what were the lab test results for Benjamin Lee', answer='Slightly elevated creatinine from the kidney function tests', benchmark_id=None),\n",
       " BenchmarkItem(question='Does Charlotte Gonzalez have any allergies?', answer='Bees', benchmark_id=None),\n",
       " BenchmarkItem(question='What treatment plan was recommended for  Emma Clark', answer='Ibuprofen for headaches and a visit to Optometrist for vision correction', benchmark_id=None),\n",
       " BenchmarkItem(question='What was the primary diagnosis of Benjamin Lee', answer='he was found to have  Chronic kidney disease, stage 3 ', benchmark_id=None),\n",
       " BenchmarkItem(question='Why did Charlotte Gonzalez visit the hospital?', answer='Migraine episodes were increasing in frequency', benchmark_id=None),\n",
       " BenchmarkItem(question='what was Isabella Patel diagnosed with?', answer='She was diagnosed with Hypothyroidism, and requires adjustment in management', benchmark_id=None),\n",
       " BenchmarkItem(question='When was Benjamin Lee scheduled to revisit the hospital?', answer='Nephrology follow-up in 3 months', benchmark_id=None),\n",
       " BenchmarkItem(question='What did the lab results of Charlotte Gonzalez show?', answer='there was nothing from her lab results', benchmark_id=None),\n",
       " BenchmarkItem(question=\"does James O'Neil have any past known ailments?\", answer='he has a medical history of asthma', benchmark_id=None),\n",
       " BenchmarkItem(question=\"Is there any history of disease in Charlotte Gonzalez's family\", answer='Her aunt had breast cancer', benchmark_id=None),\n",
       " BenchmarkItem(question='Can  Emma Clark take aspirin?', answer=\"No, she's allergic to aspirin \", benchmark_id=None),\n",
       " BenchmarkItem(question=\"Are there any known diseases in John Doe's family\", answer='His father suffered from heart disease and his mom had diabetes', benchmark_id=None),\n",
       " BenchmarkItem(question=\"What was the reason James O'Neil visited the hospital?\", answer='The visit was for the routine asthma review', benchmark_id=None)]"
      ]
     },
     "execution_count": 67,
     "metadata": {},
     "output_type": "execute_result"
    }
   ],
   "source": [
    "benchmark.items"
   ]
  },
  {
   "cell_type": "code",
   "execution_count": null,
   "metadata": {},
   "outputs": [],
   "source": []
  },
  {
   "cell_type": "code",
   "execution_count": 74,
   "metadata": {},
   "outputs": [
    {
     "name": "stdout",
     "output_type": "stream",
     "text": [
      "Scoring responses...\n"
     ]
    },
    {
     "name": "stderr",
     "output_type": "stream",
     "text": [
      "Retrieving responses:   0%|          | 0/21 [00:15<?, ?it/s]\n"
     ]
    },
    {
     "ename": "ValueError",
     "evalue": "not enough values to unpack (expected 4, got 1)",
     "output_type": "error",
     "traceback": [
      "\u001b[1;31m---------------------------------------------------------------------------\u001b[0m",
      "\u001b[1;31mValueError\u001b[0m                                Traceback (most recent call last)",
      "Cell \u001b[1;32mIn[74], line 22\u001b[0m\n\u001b[0;32m     10\u001b[0m \u001b[38;5;28mprint\u001b[39m(\u001b[38;5;124m\"\u001b[39m\u001b[38;5;124mScoring responses...\u001b[39m\u001b[38;5;124m\"\u001b[39m)\n\u001b[0;32m     11\u001b[0m scorer \u001b[38;5;241m=\u001b[39m ValidateScorer(\n\u001b[0;32m     12\u001b[0m     [\n\u001b[0;32m     13\u001b[0m         AnswerSimilarityMetric(),\n\u001b[1;32m   (...)\u001b[0m\n\u001b[0;32m     20\u001b[0m     fail_on_error\u001b[38;5;241m=\u001b[39m\u001b[38;5;28;01mTrue\u001b[39;00m,\n\u001b[0;32m     21\u001b[0m )\n\u001b[1;32m---> 22\u001b[0m run \u001b[38;5;241m=\u001b[39m \u001b[43mscorer\u001b[49m\u001b[38;5;241;43m.\u001b[39;49m\u001b[43mscore\u001b[49m\u001b[43m(\u001b[49m\u001b[43mbenchmark\u001b[49m\u001b[43m,\u001b[49m\u001b[43m \u001b[49m\u001b[43mget_rag_response\u001b[49m\u001b[43m)\u001b[49m\n\u001b[0;32m     23\u001b[0m validate_api \u001b[38;5;241m=\u001b[39m ValidateApi(TONIC_VALIDATE_API_KEY)\n\u001b[0;32m     24\u001b[0m validate_api\u001b[38;5;241m.\u001b[39mupload_run(\n\u001b[0;32m     25\u001b[0m     \u001b[38;5;124m\"\u001b[39m\u001b[38;5;124m145ee5b0-4e7b-4abd-aeac-243b59274926\u001b[39m\u001b[38;5;124m\"\u001b[39m,\n\u001b[0;32m     26\u001b[0m     run,\n\u001b[1;32m   (...)\u001b[0m\n\u001b[0;32m     31\u001b[0m     },\n\u001b[0;32m     32\u001b[0m )\n",
      "File \u001b[1;32mc:\\Users\\TurnerZ\\Documents\\GitHub\\SimpliMedi-Search\\.venv\\Lib\\site-packages\\pydantic\\validate_call_decorator.py:59\u001b[0m, in \u001b[0;36mvalidate_call.<locals>.validate.<locals>.wrapper_function\u001b[1;34m(*args, **kwargs)\u001b[0m\n\u001b[0;32m     57\u001b[0m \u001b[38;5;129m@functools\u001b[39m\u001b[38;5;241m.\u001b[39mwraps(function)\n\u001b[0;32m     58\u001b[0m \u001b[38;5;28;01mdef\u001b[39;00m \u001b[38;5;21mwrapper_function\u001b[39m(\u001b[38;5;241m*\u001b[39margs, \u001b[38;5;241m*\u001b[39m\u001b[38;5;241m*\u001b[39mkwargs):\n\u001b[1;32m---> 59\u001b[0m     \u001b[38;5;28;01mreturn\u001b[39;00m \u001b[43mvalidate_call_wrapper\u001b[49m\u001b[43m(\u001b[49m\u001b[38;5;241;43m*\u001b[39;49m\u001b[43margs\u001b[49m\u001b[43m,\u001b[49m\u001b[43m \u001b[49m\u001b[38;5;241;43m*\u001b[39;49m\u001b[38;5;241;43m*\u001b[39;49m\u001b[43mkwargs\u001b[49m\u001b[43m)\u001b[49m\n",
      "File \u001b[1;32mc:\\Users\\TurnerZ\\Documents\\GitHub\\SimpliMedi-Search\\.venv\\Lib\\site-packages\\pydantic\\_internal\\_validate_call.py:81\u001b[0m, in \u001b[0;36mValidateCallWrapper.__call__\u001b[1;34m(self, *args, **kwargs)\u001b[0m\n\u001b[0;32m     80\u001b[0m \u001b[38;5;28;01mdef\u001b[39;00m \u001b[38;5;21m__call__\u001b[39m(\u001b[38;5;28mself\u001b[39m, \u001b[38;5;241m*\u001b[39margs: Any, \u001b[38;5;241m*\u001b[39m\u001b[38;5;241m*\u001b[39mkwargs: Any) \u001b[38;5;241m-\u001b[39m\u001b[38;5;241m>\u001b[39m Any:\n\u001b[1;32m---> 81\u001b[0m     res \u001b[38;5;241m=\u001b[39m \u001b[38;5;28;43mself\u001b[39;49m\u001b[38;5;241;43m.\u001b[39;49m\u001b[43m__pydantic_validator__\u001b[49m\u001b[38;5;241;43m.\u001b[39;49m\u001b[43mvalidate_python\u001b[49m\u001b[43m(\u001b[49m\u001b[43mpydantic_core\u001b[49m\u001b[38;5;241;43m.\u001b[39;49m\u001b[43mArgsKwargs\u001b[49m\u001b[43m(\u001b[49m\u001b[43margs\u001b[49m\u001b[43m,\u001b[49m\u001b[43m \u001b[49m\u001b[43mkwargs\u001b[49m\u001b[43m)\u001b[49m\u001b[43m)\u001b[49m\n\u001b[0;32m     82\u001b[0m     \u001b[38;5;28;01mif\u001b[39;00m \u001b[38;5;28mself\u001b[39m\u001b[38;5;241m.\u001b[39m__return_pydantic_validator__:\n\u001b[0;32m     83\u001b[0m         \u001b[38;5;28;01mreturn\u001b[39;00m \u001b[38;5;28mself\u001b[39m\u001b[38;5;241m.\u001b[39m__return_pydantic_validator__(res)\n",
      "File \u001b[1;32mc:\\Users\\TurnerZ\\Documents\\GitHub\\SimpliMedi-Search\\.venv\\Lib\\site-packages\\tonic_validate\\validate_scorer.py:348\u001b[0m, in \u001b[0;36mValidateScorer.score\u001b[1;34m(self, benchmark, callback, callback_parallelism, scoring_parallelism)\u001b[0m\n\u001b[0;32m    340\u001b[0m     \u001b[38;5;28;01mreturn\u001b[39;00m LLMResponse(\n\u001b[0;32m    341\u001b[0m         llm_answer\u001b[38;5;241m=\u001b[39mcallback_response[\u001b[38;5;124m\"\u001b[39m\u001b[38;5;124mllm_answer\u001b[39m\u001b[38;5;124m\"\u001b[39m],\n\u001b[0;32m    342\u001b[0m         llm_context_list\u001b[38;5;241m=\u001b[39mcallback_response[\u001b[38;5;124m\"\u001b[39m\u001b[38;5;124mllm_context_list\u001b[39m\u001b[38;5;124m\"\u001b[39m],\n\u001b[0;32m    343\u001b[0m         benchmark_item\u001b[38;5;241m=\u001b[39mitem,\n\u001b[0;32m    344\u001b[0m         run_time\u001b[38;5;241m=\u001b[39mrun_time,\n\u001b[0;32m    345\u001b[0m     )\n\u001b[0;32m    347\u001b[0m \u001b[38;5;28;01mwith\u001b[39;00m ThreadPoolExecutor(max_workers\u001b[38;5;241m=\u001b[39mcallback_parallelism) \u001b[38;5;28;01mas\u001b[39;00m executor:\n\u001b[1;32m--> 348\u001b[0m     responses \u001b[38;5;241m=\u001b[39m \u001b[38;5;28;43mlist\u001b[39;49m\u001b[43m(\u001b[49m\n\u001b[0;32m    349\u001b[0m \u001b[43m        \u001b[49m\u001b[43mtqdm\u001b[49m\u001b[43m(\u001b[49m\n\u001b[0;32m    350\u001b[0m \u001b[43m            \u001b[49m\u001b[43mexecutor\u001b[49m\u001b[38;5;241;43m.\u001b[39;49m\u001b[43mmap\u001b[49m\u001b[43m(\u001b[49m\u001b[43mcreate_response\u001b[49m\u001b[43m,\u001b[49m\u001b[43m \u001b[49m\u001b[43mbenchmark\u001b[49m\u001b[38;5;241;43m.\u001b[39;49m\u001b[43mitems\u001b[49m\u001b[43m)\u001b[49m\u001b[43m,\u001b[49m\n\u001b[0;32m    351\u001b[0m \u001b[43m            \u001b[49m\u001b[43mtotal\u001b[49m\u001b[38;5;241;43m=\u001b[39;49m\u001b[38;5;28;43mlen\u001b[39;49m\u001b[43m(\u001b[49m\u001b[43mbenchmark\u001b[49m\u001b[38;5;241;43m.\u001b[39;49m\u001b[43mitems\u001b[49m\u001b[43m)\u001b[49m\u001b[43m,\u001b[49m\n\u001b[0;32m    352\u001b[0m \u001b[43m            \u001b[49m\u001b[43mdesc\u001b[49m\u001b[38;5;241;43m=\u001b[39;49m\u001b[38;5;124;43m\"\u001b[39;49m\u001b[38;5;124;43mRetrieving responses\u001b[39;49m\u001b[38;5;124;43m\"\u001b[39;49m\u001b[43m,\u001b[49m\n\u001b[0;32m    353\u001b[0m \u001b[43m            \u001b[49m\u001b[43mdisable\u001b[49m\u001b[38;5;241;43m=\u001b[39;49m\u001b[38;5;28;43mself\u001b[39;49m\u001b[38;5;241;43m.\u001b[39;49m\u001b[43mquiet\u001b[49m\u001b[43m,\u001b[49m\n\u001b[0;32m    354\u001b[0m \u001b[43m        \u001b[49m\u001b[43m)\u001b[49m\n\u001b[0;32m    355\u001b[0m \u001b[43m    \u001b[49m\u001b[43m)\u001b[49m\n\u001b[0;32m    357\u001b[0m \u001b[38;5;28;01mreturn\u001b[39;00m \u001b[38;5;28mself\u001b[39m\u001b[38;5;241m.\u001b[39mscore_responses(responses, scoring_parallelism)\n",
      "File \u001b[1;32mc:\\Users\\TurnerZ\\Documents\\GitHub\\SimpliMedi-Search\\.venv\\Lib\\site-packages\\tqdm\\std.py:1181\u001b[0m, in \u001b[0;36mtqdm.__iter__\u001b[1;34m(self)\u001b[0m\n\u001b[0;32m   1178\u001b[0m time \u001b[38;5;241m=\u001b[39m \u001b[38;5;28mself\u001b[39m\u001b[38;5;241m.\u001b[39m_time\n\u001b[0;32m   1180\u001b[0m \u001b[38;5;28;01mtry\u001b[39;00m:\n\u001b[1;32m-> 1181\u001b[0m \u001b[43m    \u001b[49m\u001b[38;5;28;43;01mfor\u001b[39;49;00m\u001b[43m \u001b[49m\u001b[43mobj\u001b[49m\u001b[43m \u001b[49m\u001b[38;5;129;43;01min\u001b[39;49;00m\u001b[43m \u001b[49m\u001b[43miterable\u001b[49m\u001b[43m:\u001b[49m\n\u001b[0;32m   1182\u001b[0m \u001b[43m        \u001b[49m\u001b[38;5;28;43;01myield\u001b[39;49;00m\u001b[43m \u001b[49m\u001b[43mobj\u001b[49m\n\u001b[0;32m   1183\u001b[0m \u001b[43m        \u001b[49m\u001b[38;5;66;43;03m# Update and possibly print the progressbar.\u001b[39;49;00m\n\u001b[0;32m   1184\u001b[0m \u001b[43m        \u001b[49m\u001b[38;5;66;43;03m# Note: does not call self.update(1) for speed optimisation.\u001b[39;49;00m\n",
      "File \u001b[1;32m~\\anaconda3\\Lib\\concurrent\\futures\\_base.py:619\u001b[0m, in \u001b[0;36mExecutor.map.<locals>.result_iterator\u001b[1;34m()\u001b[0m\n\u001b[0;32m    616\u001b[0m \u001b[38;5;28;01mwhile\u001b[39;00m fs:\n\u001b[0;32m    617\u001b[0m     \u001b[38;5;66;03m# Careful not to keep a reference to the popped future\u001b[39;00m\n\u001b[0;32m    618\u001b[0m     \u001b[38;5;28;01mif\u001b[39;00m timeout \u001b[38;5;129;01mis\u001b[39;00m \u001b[38;5;28;01mNone\u001b[39;00m:\n\u001b[1;32m--> 619\u001b[0m         \u001b[38;5;28;01myield\u001b[39;00m \u001b[43m_result_or_cancel\u001b[49m\u001b[43m(\u001b[49m\u001b[43mfs\u001b[49m\u001b[38;5;241;43m.\u001b[39;49m\u001b[43mpop\u001b[49m\u001b[43m(\u001b[49m\u001b[43m)\u001b[49m\u001b[43m)\u001b[49m\n\u001b[0;32m    620\u001b[0m     \u001b[38;5;28;01melse\u001b[39;00m:\n\u001b[0;32m    621\u001b[0m         \u001b[38;5;28;01myield\u001b[39;00m _result_or_cancel(fs\u001b[38;5;241m.\u001b[39mpop(), end_time \u001b[38;5;241m-\u001b[39m time\u001b[38;5;241m.\u001b[39mmonotonic())\n",
      "File \u001b[1;32m~\\anaconda3\\Lib\\concurrent\\futures\\_base.py:317\u001b[0m, in \u001b[0;36m_result_or_cancel\u001b[1;34m(***failed resolving arguments***)\u001b[0m\n\u001b[0;32m    315\u001b[0m \u001b[38;5;28;01mtry\u001b[39;00m:\n\u001b[0;32m    316\u001b[0m     \u001b[38;5;28;01mtry\u001b[39;00m:\n\u001b[1;32m--> 317\u001b[0m         \u001b[38;5;28;01mreturn\u001b[39;00m \u001b[43mfut\u001b[49m\u001b[38;5;241;43m.\u001b[39;49m\u001b[43mresult\u001b[49m\u001b[43m(\u001b[49m\u001b[43mtimeout\u001b[49m\u001b[43m)\u001b[49m\n\u001b[0;32m    318\u001b[0m     \u001b[38;5;28;01mfinally\u001b[39;00m:\n\u001b[0;32m    319\u001b[0m         fut\u001b[38;5;241m.\u001b[39mcancel()\n",
      "File \u001b[1;32m~\\anaconda3\\Lib\\concurrent\\futures\\_base.py:456\u001b[0m, in \u001b[0;36mFuture.result\u001b[1;34m(self, timeout)\u001b[0m\n\u001b[0;32m    454\u001b[0m     \u001b[38;5;28;01mraise\u001b[39;00m CancelledError()\n\u001b[0;32m    455\u001b[0m \u001b[38;5;28;01melif\u001b[39;00m \u001b[38;5;28mself\u001b[39m\u001b[38;5;241m.\u001b[39m_state \u001b[38;5;241m==\u001b[39m FINISHED:\n\u001b[1;32m--> 456\u001b[0m     \u001b[38;5;28;01mreturn\u001b[39;00m \u001b[38;5;28;43mself\u001b[39;49m\u001b[38;5;241;43m.\u001b[39;49m\u001b[43m__get_result\u001b[49m\u001b[43m(\u001b[49m\u001b[43m)\u001b[49m\n\u001b[0;32m    457\u001b[0m \u001b[38;5;28;01melse\u001b[39;00m:\n\u001b[0;32m    458\u001b[0m     \u001b[38;5;28;01mraise\u001b[39;00m \u001b[38;5;167;01mTimeoutError\u001b[39;00m()\n",
      "File \u001b[1;32m~\\anaconda3\\Lib\\concurrent\\futures\\_base.py:401\u001b[0m, in \u001b[0;36mFuture.__get_result\u001b[1;34m(self)\u001b[0m\n\u001b[0;32m    399\u001b[0m \u001b[38;5;28;01mif\u001b[39;00m \u001b[38;5;28mself\u001b[39m\u001b[38;5;241m.\u001b[39m_exception:\n\u001b[0;32m    400\u001b[0m     \u001b[38;5;28;01mtry\u001b[39;00m:\n\u001b[1;32m--> 401\u001b[0m         \u001b[38;5;28;01mraise\u001b[39;00m \u001b[38;5;28mself\u001b[39m\u001b[38;5;241m.\u001b[39m_exception\n\u001b[0;32m    402\u001b[0m     \u001b[38;5;28;01mfinally\u001b[39;00m:\n\u001b[0;32m    403\u001b[0m         \u001b[38;5;66;03m# Break a reference cycle with the exception in self._exception\u001b[39;00m\n\u001b[0;32m    404\u001b[0m         \u001b[38;5;28mself\u001b[39m \u001b[38;5;241m=\u001b[39m \u001b[38;5;28;01mNone\u001b[39;00m\n",
      "File \u001b[1;32m~\\anaconda3\\Lib\\concurrent\\futures\\thread.py:58\u001b[0m, in \u001b[0;36m_WorkItem.run\u001b[1;34m(self)\u001b[0m\n\u001b[0;32m     55\u001b[0m     \u001b[38;5;28;01mreturn\u001b[39;00m\n\u001b[0;32m     57\u001b[0m \u001b[38;5;28;01mtry\u001b[39;00m:\n\u001b[1;32m---> 58\u001b[0m     result \u001b[38;5;241m=\u001b[39m \u001b[38;5;28;43mself\u001b[39;49m\u001b[38;5;241;43m.\u001b[39;49m\u001b[43mfn\u001b[49m\u001b[43m(\u001b[49m\u001b[38;5;241;43m*\u001b[39;49m\u001b[38;5;28;43mself\u001b[39;49m\u001b[38;5;241;43m.\u001b[39;49m\u001b[43margs\u001b[49m\u001b[43m,\u001b[49m\u001b[43m \u001b[49m\u001b[38;5;241;43m*\u001b[39;49m\u001b[38;5;241;43m*\u001b[39;49m\u001b[38;5;28;43mself\u001b[39;49m\u001b[38;5;241;43m.\u001b[39;49m\u001b[43mkwargs\u001b[49m\u001b[43m)\u001b[49m\n\u001b[0;32m     59\u001b[0m \u001b[38;5;28;01mexcept\u001b[39;00m \u001b[38;5;167;01mBaseException\u001b[39;00m \u001b[38;5;28;01mas\u001b[39;00m exc:\n\u001b[0;32m     60\u001b[0m     \u001b[38;5;28mself\u001b[39m\u001b[38;5;241m.\u001b[39mfuture\u001b[38;5;241m.\u001b[39mset_exception(exc)\n",
      "File \u001b[1;32mc:\\Users\\TurnerZ\\Documents\\GitHub\\SimpliMedi-Search\\.venv\\Lib\\site-packages\\tonic_validate\\validate_scorer.py:335\u001b[0m, in \u001b[0;36mValidateScorer.score.<locals>.create_response\u001b[1;34m(item)\u001b[0m\n\u001b[0;32m    332\u001b[0m \u001b[38;5;28;01mdef\u001b[39;00m \u001b[38;5;21mcreate_response\u001b[39m(item: BenchmarkItem) \u001b[38;5;241m-\u001b[39m\u001b[38;5;241m>\u001b[39m LLMResponse:\n\u001b[0;32m    333\u001b[0m     \u001b[38;5;66;03m# Time the callback\u001b[39;00m\n\u001b[0;32m    334\u001b[0m     start_time \u001b[38;5;241m=\u001b[39m time\u001b[38;5;241m.\u001b[39mtime()\n\u001b[1;32m--> 335\u001b[0m     callback_response \u001b[38;5;241m=\u001b[39m \u001b[43mcallback\u001b[49m\u001b[43m(\u001b[49m\u001b[43mitem\u001b[49m\u001b[38;5;241;43m.\u001b[39;49m\u001b[43mquestion\u001b[49m\u001b[43m)\u001b[49m\n\u001b[0;32m    336\u001b[0m     \u001b[38;5;66;03m# Validate type of callback_response\u001b[39;00m\n\u001b[0;32m    337\u001b[0m     CallbackValidator\u001b[38;5;241m.\u001b[39mvalidate_python(callback_response)\n",
      "Cell \u001b[1;32mIn[74], line 2\u001b[0m, in \u001b[0;36mget_rag_response\u001b[1;34m(query_txt)\u001b[0m\n\u001b[0;32m      1\u001b[0m \u001b[38;5;28;01mdef\u001b[39;00m \u001b[38;5;21mget_rag_response\u001b[39m(query_txt):\n\u001b[1;32m----> 2\u001b[0m     results, summary, score, documents \u001b[38;5;241m=\u001b[39m query_corpus(CUSTOMER_ID, CORPUS_ID, IDX_ADDRESS, get_jwt_token(), query_txt),\n\u001b[0;32m      3\u001b[0m     context_list \u001b[38;5;241m=\u001b[39m [doc[\u001b[38;5;124m'\u001b[39m\u001b[38;5;124mmetadata\u001b[39m\u001b[38;5;124m'\u001b[39m][\u001b[38;5;241m6\u001b[39m][\u001b[38;5;124m'\u001b[39m\u001b[38;5;124mvalue\u001b[39m\u001b[38;5;124m'\u001b[39m] \u001b[38;5;28;01mfor\u001b[39;00m doc \u001b[38;5;129;01min\u001b[39;00m documents]\n\u001b[0;32m      4\u001b[0m     \u001b[38;5;28;01mreturn\u001b[39;00m {\n\u001b[0;32m      5\u001b[0m         \u001b[38;5;124m\"\u001b[39m\u001b[38;5;124mllm_answer\u001b[39m\u001b[38;5;124m\"\u001b[39m: summary,\n\u001b[0;32m      6\u001b[0m         \u001b[38;5;124m\"\u001b[39m\u001b[38;5;124mllm_context_list\u001b[39m\u001b[38;5;124m\"\u001b[39m: context_list\n\u001b[0;32m      7\u001b[0m     }\n",
      "\u001b[1;31mValueError\u001b[0m: not enough values to unpack (expected 4, got 1)"
     ]
    }
   ],
   "source": [
    "def get_rag_response(query_txt):\n",
    "    results, summary, score, documents = query_corpus(CUSTOMER_ID, CORPUS_ID, IDX_ADDRESS, get_jwt_token(), query_txt),\n",
    "    context_list = [doc['metadata'][6]['value'] for doc in documents]\n",
    "    return {\n",
    "        \"llm_answer\": summary,\n",
    "        \"llm_context_list\": context_list\n",
    "    }\n",
    "\n",
    "# Score the responses\n",
    "print(\"Scoring responses...\")\n",
    "scorer = ValidateScorer(\n",
    "    [\n",
    "        AnswerSimilarityMetric(),\n",
    "        RetrievalPrecisionMetric(),\n",
    "        AugmentationPrecisionMetric(),\n",
    "        AugmentationAccuracyMetric(),\n",
    "        AnswerConsistencyMetric(),\n",
    "    ],\n",
    "    model_evaluator=\"gpt-3.5-turbo\",\n",
    "    fail_on_error=True,\n",
    ")\n",
    "run = scorer.score(benchmark, get_rag_response)\n",
    "validate_api = ValidateApi(TONIC_VALIDATE_API_KEY)\n",
    "validate_api.upload_run(\n",
    "    \"145ee5b0-4e7b-4abd-aeac-243b59274926\",\n",
    "    run,\n",
    "    run_metadata={\n",
    "        \"run_name\": \"Init Run\",\n",
    "        \"top_k\": 5,\n",
    "        \"summarized_top_k\": 10,\n",
    "    },\n",
    ")\n",
    "print(\"Done!\")\n"
   ]
  },
  {
   "cell_type": "markdown",
   "metadata": {},
   "source": [
    "## Query With LlamaIndex"
   ]
  },
  {
   "cell_type": "code",
   "execution_count": 98,
   "metadata": {},
   "outputs": [],
   "source": [
    "os.environ[\"VECTARA_CUSTOMER_ID\"] = os.environ.get('CUSTOMER_ID')\n",
    "os.environ[\"VECTARA_CORPUS_ID\"] = \"7\"\n",
    "os.environ[\"VECTARA_API_KEY\"] = os.environ.get('API_KEY')"
   ]
  },
  {
   "cell_type": "code",
   "execution_count": 101,
   "metadata": {},
   "outputs": [
    {
     "name": "stdout",
     "output_type": "stream",
     "text": [
      "LLM is explicitly disabled. Using MockLLM.\n",
      "Embeddings have been explicitly disabled. Using MockEmbedding.\n"
     ]
    }
   ],
   "source": [
    "from llama_index.core.readers import SimpleDirectoryReader\n",
    "from llama_index.indices.managed.vectara import VectaraIndex\n",
    "\n",
    "documents = SimpleDirectoryReader(\"corpus\").load_data()\n",
    "index = VectaraIndex()"
   ]
  },
  {
   "cell_type": "code",
   "execution_count": 97,
   "metadata": {},
   "outputs": [
    {
     "data": {
      "text/plain": [
       "Response(response='', source_nodes=[], metadata=None)"
      ]
     },
     "execution_count": 97,
     "metadata": {},
     "output_type": "execute_result"
    }
   ],
   "source": [
    "# Get an answer to the query based on the content of the essay\n",
    "response = index.as_query_engine(similarity_top_k=5,)\n",
    "answer = response.query(\"What was John Doe's condition?\")\n",
    "answer"
   ]
  },
  {
   "cell_type": "code",
   "execution_count": 88,
   "metadata": {},
   "outputs": [
    {
     "name": "stdout",
     "output_type": "stream",
     "text": [
      "None\n"
     ]
    }
   ],
   "source": [
    "response = index.as_query_engine().query(\"What was John Doe's condition?\")\n",
    "print(response)"
   ]
  }
 ],
 "metadata": {
  "kernelspec": {
   "display_name": ".venv",
   "language": "python",
   "name": "python3"
  },
  "language_info": {
   "codemirror_mode": {
    "name": "ipython",
    "version": 3
   },
   "file_extension": ".py",
   "mimetype": "text/x-python",
   "name": "python",
   "nbconvert_exporter": "python",
   "pygments_lexer": "ipython3",
   "version": "3.11.3"
  }
 },
 "nbformat": 4,
 "nbformat_minor": 2
}
