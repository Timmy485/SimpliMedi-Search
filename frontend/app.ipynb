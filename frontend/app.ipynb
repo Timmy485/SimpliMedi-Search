{
 "cells": [
  {
   "cell_type": "code",
   "execution_count": 1,
   "metadata": {},
   "outputs": [
    {
     "data": {
      "text/plain": [
       "True"
      ]
     },
     "execution_count": 1,
     "metadata": {},
     "output_type": "execute_result"
    }
   ],
   "source": [
    "import json\n",
    "import os\n",
    "import logging\n",
    "import requests\n",
    "from dotenv import load_dotenv\n",
    "\n",
    "load_dotenv()"
   ]
  },
  {
   "cell_type": "code",
   "execution_count": 64,
   "metadata": {},
   "outputs": [],
   "source": [
    "CUSTOMER_ID = os.environ.get(\"CUSTOMER_ID\")\n",
    "CORPUS_ID = os.environ.get(\"CORPUS_ID\")\n",
    "API_KEY = os.environ.get(\"API_KEY\")\n",
    "AUTH_URL = os.environ.get(\"AUTH_URL\")\n",
    "APP_CLIENT_ID = os.environ.get(\"APP_CLIENT_ID\")\n",
    "APP_CLIENT_SECRET = os.environ.get(\"APP_CLIENT_SECRET\")\n",
    "IDX_ADDRESS = os.environ.get(\"IDX_ADDRESS\")\n",
    "TONIC_VALIDATE_API_KEY = os.environ.get(\"TONIC_VALIDATE_API_KEY\")\n",
    "os.environ[\"OPENAI_API_KEY\"] = os.environ.get(\"OPENAI_API_KEY\")"
   ]
  },
  {
   "cell_type": "markdown",
   "metadata": {},
   "source": [
    "## Create Corpus"
   ]
  },
  {
   "cell_type": "code",
   "execution_count": null,
   "metadata": {},
   "outputs": [],
   "source": [
    "def _get_create_corpus_json():\n",
    "    \"\"\"Returns a create corpus json.\"\"\"\n",
    "    corpus = {\n",
    "        \"name\": \"Vectara Test Corpus(Python)\",\n",
    "        \"description\": \"An example corpus generated via REST API from Python code.\",\n",
    "    }\n",
    "    return json.dumps({\"corpus\": corpus})\n",
    "\n",
    "\n",
    "def create_corpus(customer_id: int, admin_address: str, jwt_token: str):\n",
    "    \"\"\"Create a corpus.\n",
    "    Args:\n",
    "        customer_id: Unique customer ID in vectara platform.\n",
    "        admin_address: Address of the admin server. e.g., api.vectara.io\n",
    "        jwt_token: A valid Auth token.\n",
    "\n",
    "    Returns:\n",
    "        (response, True) in case of success and returns (error, False) in case of failure.\n",
    "    \"\"\"\n",
    "\n",
    "    post_headers = {\n",
    "        \"customer-id\": f\"{customer_id}\",\n",
    "        \"Authorization\": f\"Bearer {jwt_token}\",\n",
    "    }\n",
    "    response = requests.post(\n",
    "        f\"https://{admin_address}/v1/create-corpus\",\n",
    "        data=_get_create_corpus_json(),\n",
    "        verify=True,\n",
    "        headers=post_headers,\n",
    "    )\n",
    "\n",
    "    if response.status_code != 200:\n",
    "        logging.error(\n",
    "            \"Create Corpus failed with code %d, reason %s, text %s\",\n",
    "            response.status_code,\n",
    "            response.reason,\n",
    "            response.text,\n",
    "        )\n",
    "        return response, False\n",
    "\n",
    "    message = response.json()\n",
    "    if message[\"status\"] and message[\"status\"][\"code\"] != \"OK\":\n",
    "        logging.error(\"Create Corpus failed with status: %s\", message[\"status\"])\n",
    "        return message[\"status\"], False\n",
    "\n",
    "    return message, True"
   ]
  },
  {
   "cell_type": "markdown",
   "metadata": {},
   "source": [
    "## Delete Corpus"
   ]
  },
  {
   "cell_type": "code",
   "execution_count": null,
   "metadata": {},
   "outputs": [],
   "source": [
    "def _get_delete_corpus_json(customer_id: int, corpus_id: int):\n",
    "    \"\"\"Returns a delete corpus JSON.\"\"\"\n",
    "    corpus = {\n",
    "        \"customer_id\": customer_id,\n",
    "        \"corpus_id\": corpus_id,\n",
    "    }\n",
    "\n",
    "    return json.dumps(corpus)\n",
    "\n",
    "\n",
    "def delete_corpus(customer_id: int, corpus_id: int, admin_address: str, jwt_token: str):\n",
    "    \"\"\"Deletes a corpus.\n",
    "\n",
    "    Args:\n",
    "        customer_id: Unique customer ID in vectara platform.\n",
    "        corpus_id: Corpus ID in vectara platform.\n",
    "        admin_address: Address of the admin server. e.g., api.vectara.io\n",
    "        jwt_token: A valid Auth token.\n",
    "\n",
    "    Returns:\n",
    "        (response, True) in case of success and returns (error, False) in case of failure.\n",
    "    \"\"\"\n",
    "    post_headers = {\n",
    "        \"customer-id\": f\"{customer_id}\",\n",
    "        \"Authorization\": f\"Bearer {jwt_token}\",\n",
    "    }\n",
    "    response = requests.post(\n",
    "        f\"https://{admin_address}/v1/delete-corpus\",\n",
    "        data=_get_delete_corpus_json(customer_id, corpus_id),\n",
    "        verify=True,\n",
    "        headers=post_headers,\n",
    "    )\n",
    "\n",
    "    if response.status_code != 200:\n",
    "        logging.error(\n",
    "            \"Delete Corpus failed with code %d, reason %s, text %s\",\n",
    "            response.status_code,\n",
    "            response.reason,\n",
    "            response.text,\n",
    "        )\n",
    "        return response, False\n",
    "\n",
    "    message = response.json()\n",
    "    if message[\"status\"] and message[\"status\"][\"code\"] != \"OK\":\n",
    "        logging.error(\"Delete Corpus failed with status: %s\", message.status)\n",
    "        return message.status, False\n",
    "\n",
    "    return message, True"
   ]
  },
  {
   "cell_type": "markdown",
   "metadata": {},
   "source": [
    "## Reset Corpus"
   ]
  },
  {
   "cell_type": "code",
   "execution_count": null,
   "metadata": {},
   "outputs": [],
   "source": [
    "def _get_reset_corpus_json(customer_id: int, corpus_id: int):\n",
    "    \"\"\"Returns a reset corpus json.\"\"\"\n",
    "    corpus = {\n",
    "        \"customer_id\": customer_id,\n",
    "        \"corpus_id\": corpus_id,\n",
    "    }\n",
    "\n",
    "    return json.dumps(corpus)\n",
    "\n",
    "\n",
    "def reset_corpus(customer_id: int, corpus_id: int, admin_address: str, jwt_token: str):\n",
    "    \"\"\"Reset a corpus.\n",
    "    Args:\n",
    "        customer_id: Unique customer ID in vectara platform.\n",
    "        corpus_id: Corpus ID in vectara platform.\n",
    "        admin_address: Address of the admin server. e.g., api.vectara.io\n",
    "        jwt_token: A valid Auth token.\n",
    "\n",
    "    Returns:\n",
    "        (response, True) in case of success and returns (error, False) in case of failure.\n",
    "    \"\"\"\n",
    "\n",
    "    post_headers = {\n",
    "        \"customer-id\": f\"{customer_id}\",\n",
    "        \"Authorization\": f\"Bearer {jwt_token}\",\n",
    "    }\n",
    "    response = requests.post(\n",
    "        f\"https://{admin_address}/v1/reset-corpus\",\n",
    "        data=_get_reset_corpus_json(customer_id, corpus_id),\n",
    "        verify=True,\n",
    "        headers=post_headers,\n",
    "    )\n",
    "\n",
    "    if response.status_code != 200:\n",
    "        logging.error(\n",
    "            \"Reset Corpus failed with code %d, reason %s, text %s\",\n",
    "            response.status_code,\n",
    "            response.reason,\n",
    "            response.text,\n",
    "        )\n",
    "        return response, False\n",
    "\n",
    "    message = response.json()\n",
    "    if message[\"status\"] and message[\"status\"][\"code\"] != \"OK\":\n",
    "        logging.error(\"Delete Corpus failed with status: %s\", message.status)\n",
    "        return message.status, False\n",
    "\n",
    "    return message, True"
   ]
  },
  {
   "cell_type": "markdown",
   "metadata": {},
   "source": [
    "## File Upload"
   ]
  },
  {
   "cell_type": "code",
   "execution_count": 3,
   "metadata": {},
   "outputs": [],
   "source": [
    "def get_jwt_token():\n",
    "    \"\"\"Get JWT token from authentication service.\"\"\"\n",
    "    auth_url = AUTH_URL\n",
    "    client_id = APP_CLIENT_ID\n",
    "    client_secret = APP_CLIENT_SECRET\n",
    "\n",
    "    data = {\n",
    "        \"grant_type\": \"client_credentials\",\n",
    "        \"client_id\": client_id,\n",
    "        \"client_secret\": client_secret,\n",
    "    }\n",
    "\n",
    "    headers = {\"Content-Type\": \"application/x-www-form-urlencoded\"}\n",
    "\n",
    "    response = requests.post(auth_url, headers=headers, data=data)\n",
    "\n",
    "    if response.status_code == 200:\n",
    "        response_data = response.json()\n",
    "        return response_data.get(\"access_token\")\n",
    "    else:\n",
    "        print(\"Error:\", response.text)\n",
    "        return None"
   ]
  },
  {
   "cell_type": "code",
   "execution_count": 102,
   "metadata": {},
   "outputs": [],
   "source": [
    "def upload_file(\n",
    "    customer_id: int, corpus_id: int, idx_address: str, jwt_token: str, file_path: str\n",
    "):\n",
    "    \"\"\"Uploads a file to the corpus.\n",
    "\n",
    "    Args:\n",
    "        customer_id: Unique customer ID in vectara platform.\n",
    "        corpus_id: ID of the corpus to which data needs to be indexed.\n",
    "        idx_address: Address of the indexing server. e.g., api.vectara.io\n",
    "        jwt_token: A valid Auth token.\n",
    "        file_path: Path to the file to be uploaded.\n",
    "\n",
    "    Returns:\n",
    "        (response, True) in case of success and returns (error, False) in case of failure.\n",
    "    \"\"\"\n",
    "\n",
    "    # Extract filename from the file path\n",
    "    filename = os.path.basename(file_path)\n",
    "\n",
    "    post_headers = {\"Authorization\": f\"Bearer {jwt_token}\"}\n",
    "    with open(file_path, \"rb\") as file:\n",
    "        response = requests.post(\n",
    "            f\"https://{idx_address}/v1/upload?c={customer_id}&o={corpus_id}\",\n",
    "            files={\"file\": (file.name, file, \"application/octet-stream\")},\n",
    "            data={\"doc_metadata\": f'{{\"filename\": \"{filename}\"}}'},\n",
    "            verify=True,\n",
    "            headers=post_headers,\n",
    "        )\n",
    "\n",
    "    if response.status_code != 200:\n",
    "        logging.error(\n",
    "            \"REST upload failed with code %d, reason %s, text %s\",\n",
    "            response.status_code,\n",
    "            response.reason,\n",
    "            response.text,\n",
    "        )\n",
    "        return response, False\n",
    "\n",
    "    message = response.json()[\"response\"]\n",
    "    # An empty status indicates success.\n",
    "    if message[\"status\"] and message[\"status\"][\"code\"] not in (\"OK\", \"ALREADY_EXISTS\"):\n",
    "        logging.error(\"REST upload failed with status: %s\", message[\"status\"])\n",
    "        return message[\"status\"], False\n",
    "\n",
    "    return message, True\n",
    "\n",
    "\n",
    "def upload_files_in_directory(\n",
    "    customer_id: int, corpus_id: int, idx_address: str, directory_path: str\n",
    "):\n",
    "    \"\"\"Uploads all files in a directory to the corpus.\n",
    "\n",
    "    Args:\n",
    "        customer_id: Unique customer ID in Vectara platform.\n",
    "        corpus_id: ID of the corpus to which data needs to be indexed.\n",
    "        idx_address: Address of the indexing server. e.g., api.vectara.io\n",
    "        directory_path: Path to the directory containing files to be uploaded.\n",
    "\n",
    "    Returns:\n",
    "        A list of tuples containing (response, success) for each file upload.\n",
    "    \"\"\"\n",
    "    jwt_token = get_jwt_token()\n",
    "    if not jwt_token:\n",
    "        return []\n",
    "\n",
    "    file_uploads = []\n",
    "    for file_name in os.listdir(directory_path):\n",
    "        file_path = os.path.join(directory_path, file_name)\n",
    "        if os.path.isfile(file_path):\n",
    "            response, success = upload_file(\n",
    "                customer_id, corpus_id, idx_address, jwt_token, file_path\n",
    "            )\n",
    "            file_uploads.append((response, success))\n",
    "    return file_uploads"
   ]
  },
  {
   "cell_type": "code",
   "execution_count": 108,
   "metadata": {},
   "outputs": [
    {
     "data": {
      "text/plain": [
       "[({'status': {},\n",
       "   'quotaConsumed': {'numChars': '2126', 'numMetadataChars': '887'}},\n",
       "  True),\n",
       " ({'status': {},\n",
       "   'quotaConsumed': {'numChars': '2271', 'numMetadataChars': '840'}},\n",
       "  True),\n",
       " ({'status': {},\n",
       "   'quotaConsumed': {'numChars': '2262', 'numMetadataChars': '845'}},\n",
       "  True),\n",
       " ({'status': {},\n",
       "   'quotaConsumed': {'numChars': '2321', 'numMetadataChars': '948'}},\n",
       "  True),\n",
       " ({'status': {},\n",
       "   'quotaConsumed': {'numChars': '2049', 'numMetadataChars': '737'}},\n",
       "  True),\n",
       " ({'status': {},\n",
       "   'quotaConsumed': {'numChars': '2093', 'numMetadataChars': '894'}},\n",
       "  True),\n",
       " ({'status': {},\n",
       "   'quotaConsumed': {'numChars': '3344', 'numMetadataChars': '1024'}},\n",
       "  True),\n",
       " ({'status': {},\n",
       "   'quotaConsumed': {'numChars': '2278', 'numMetadataChars': '840'}},\n",
       "  True),\n",
       " ({'status': {},\n",
       "   'quotaConsumed': {'numChars': '2161', 'numMetadataChars': '835'}},\n",
       "  True),\n",
       " ({'status': {},\n",
       "   'quotaConsumed': {'numChars': '2121', 'numMetadataChars': '842'}},\n",
       "  True),\n",
       " ({'status': {},\n",
       "   'quotaConsumed': {'numChars': '1996', 'numMetadataChars': '896'}},\n",
       "  True)]"
      ]
     },
     "execution_count": 108,
     "metadata": {},
     "output_type": "execute_result"
    }
   ],
   "source": [
    "upload_files_in_directory(\n",
    "    customer_id=CUSTOMER_ID,\n",
    "    corpus_id=CORPUS_ID,\n",
    "    idx_address=\"api.vectara.io\",\n",
    "    directory_path=\"corpus\",\n",
    ")"
   ]
  },
  {
   "cell_type": "code",
   "execution_count": 106,
   "metadata": {},
   "outputs": [
    {
     "data": {
      "text/plain": [
       "[({'status': {'code': 'ALREADY_EXISTS'},\n",
       "   'quotaConsumed': {'numChars': '1996', 'numMetadataChars': '896'}},\n",
       "  True)]"
      ]
     },
     "execution_count": 106,
     "metadata": {},
     "output_type": "execute_result"
    }
   ],
   "source": [
    "abs_temp_dir = os.path.abspath(\"temp\")\n",
    "upload_files_in_directory(\n",
    "    customer_id=CUSTOMER_ID,\n",
    "    corpus_id=CORPUS_ID,\n",
    "    idx_address=\"api.vectara.io\",\n",
    "    directory_path=abs_temp_dir,\n",
    ")"
   ]
  },
  {
   "cell_type": "markdown",
   "metadata": {},
   "source": [
    "## Query Corpus"
   ]
  },
  {
   "cell_type": "code",
   "execution_count": 38,
   "metadata": {},
   "outputs": [],
   "source": [
    "# Dictionary mapping language names to their lowercase initials\n",
    "language_initials = {\n",
    "    \"English\": \"eng\",\n",
    "    \"German\": \"deu\",\n",
    "    \"French\": \"fra\",\n",
    "    \"Chinese\": \"zho\",\n",
    "    \"Korean\": \"kor\",\n",
    "    \"Arabic\": \"ara\",\n",
    "    \"Russian\": \"rus\",\n",
    "    \"Thai\": \"tha\",\n",
    "    \"Dutch\": \"nld\",\n",
    "    \"Italian\": \"ita\",\n",
    "    \"Portuguese\": \"por\",\n",
    "    \"Spanish\": \"spa\",\n",
    "    \"Japanese\": \"jpn\",\n",
    "    \"Polish\": \"pol\",\n",
    "    \"Turkish\": \"tur\",\n",
    "    \"Vietnamese\": \"vie\",\n",
    "    \"Indonesian\": \"ind\",\n",
    "    \"Czech\": \"ces\",\n",
    "    \"Ukrainian\": \"ukr\",\n",
    "    \"Greek\": \"ell\",\n",
    "    \"Hebrew\": \"heb\",\n",
    "    \"Farsi/Persian\": \"fas\",\n",
    "    \"Hindi\": \"hin\",\n",
    "    \"Urdu\": \"urd\",\n",
    "    \"Swedish\": \"swe\",\n",
    "    \"Bengali\": \"ben\",\n",
    "    \"Malay\": \"msa\",\n",
    "    \"Romanian\": \"ron\",\n",
    "}\n",
    "\n",
    "models = {\n",
    "    \"GPT-3.5-Turbo\": \"vectara-summary-ext-v1.2.0\",\n",
    "    \"GPT-4-Turbo\": \"vectara-summary-ext-v1.3.0\",\n",
    "}"
   ]
  },
  {
   "cell_type": "code",
   "execution_count": 55,
   "metadata": {},
   "outputs": [],
   "source": [
    "def _get_query_json(\n",
    "    customer_id: int,\n",
    "    corpus_id: int,\n",
    "    query_value: str,\n",
    "    summarizer_prompt_name,\n",
    "    response_lang,\n",
    "    top_k=5,\n",
    "    max_summarized_results=10,\n",
    "    lambda_val=0.025,\n",
    "):\n",
    "    \"\"\"Returns a query JSON.\"\"\"\n",
    "    query = {\n",
    "        \"query\": [\n",
    "            {\n",
    "                \"query\": query_value,\n",
    "                \"num_results\": top_k,\n",
    "                \"corpus_key\": [\n",
    "                    {\n",
    "                        \"customer_id\": customer_id,\n",
    "                        \"corpus_id\": corpus_id,\n",
    "                        \"lexicalInterpolationConfig\": {\"lambda\": lambda_val},\n",
    "                    }\n",
    "                ],\n",
    "                \"summary\": [\n",
    "                    {\n",
    "                        \"summarizerPromptName\": summarizer_prompt_name,  # vectara-summary-ext-v1.2.0 (gpt-3.5-turbo) vectara-summary-ext-v1.3.0 (gpt-4.0)\n",
    "                        \"responseLang\": response_lang,  # auto to auto-detect\n",
    "                        \"maxSummarizedResults\": max_summarized_results,\n",
    "                        \"factual_consistency_score\": True,\n",
    "                    }\n",
    "                ],\n",
    "            },\n",
    "        ],\n",
    "    }\n",
    "    return json.dumps(query)\n",
    "\n",
    "\n",
    "def query_corpus(\n",
    "    customer_id: int, corpus_id: int, query_address: str, jwt_token: str, query: str\n",
    "):\n",
    "    \"\"\"Queries the data.\n",
    "\n",
    "    Args:\n",
    "        customer_id: Unique customer ID in vectara platform.\n",
    "        corpus_id: ID of the corpus to which data needs to be indexed.\n",
    "        query_address: Address of the querying server. e.g., api.vectara.io\n",
    "        jwt_token: A valid Auth token.\n",
    "\n",
    "    Returns:\n",
    "        (response, True) in case of success and returns (error, False) in case of failure.\n",
    "\n",
    "    \"\"\"\n",
    "    post_headers = {\n",
    "        \"customer-id\": f\"{customer_id}\",\n",
    "        \"Authorization\": f\"Bearer {jwt_token}\",\n",
    "    }\n",
    "\n",
    "    response = requests.post(\n",
    "        f\"https://{query_address}/v1/query\",\n",
    "        data=_get_query_json(\n",
    "            customer_id,\n",
    "            corpus_id,\n",
    "            query,\n",
    "            models[\"GPT-4-Turbo\"],\n",
    "            language_initials[\"English\"],\n",
    "        ),\n",
    "        verify=True,\n",
    "        headers=post_headers,\n",
    "    )\n",
    "\n",
    "    if response.status_code != 200:\n",
    "        logging.error(\n",
    "            \"Query failed with code %d, reason %s, text %s\",\n",
    "            response.status_code,\n",
    "            response.reason,\n",
    "            response.text,\n",
    "        )\n",
    "        return response, False\n",
    "\n",
    "    message = response.json()\n",
    "    if message[\"status\"] and any(\n",
    "        status[\"code\"] != \"OK\" for status in message[\"status\"]\n",
    "    ):\n",
    "        logging.error(\"Query failed with status: %s\", message[\"status\"])\n",
    "        return message[\"status\"], False\n",
    "\n",
    "    responses = message[\"responseSet\"][0][\"response\"]\n",
    "    documents = message[\"responseSet\"][0][\"document\"]\n",
    "    summary = message[\"responseSet\"][0][\"summary\"][0][\"text\"]\n",
    "    factual_consistency_score = message[\"responseSet\"][0][\"summary\"][0][\n",
    "        \"factualConsistency\"\n",
    "    ][\"score\"]\n",
    "\n",
    "    res = [[r[\"text\"], r[\"score\"]] for r in responses]\n",
    "    return res, summary, factual_consistency_score, documents"
   ]
  },
  {
   "cell_type": "code",
   "execution_count": 68,
   "metadata": {},
   "outputs": [
    {
     "data": {
      "text/plain": [
       "'John Doe, born on May 17, 1985, visited Sunrise Health Medical Center due to severe, intermittent abdominal pain and persistent nausea he had been experiencing over the last 48 hours [2]. His primary diagnosis was chronic kidney disease, stage 3 [3]. His physical examination results indicated a stable chronic condition [4]. His blood pressure was slightly high at 140/90 mmHg [4], which was being managed with ACE inhibitors [3]. He was also referred to a nephrologist for ongoing management of his condition and a dietitian for consultation on kidney health [3]. His condition was expected to be managed with potential stabilization [3]. His known allergies include penicillin, and he has a past medical history of asthma and high blood pressure [2].'"
      ]
     },
     "execution_count": 68,
     "metadata": {},
     "output_type": "execute_result"
    }
   ],
   "source": [
    "query_txt = \"which was John Doe's condition?\"\n",
    "results, summary, score, documents = query_corpus(\n",
    "    CUSTOMER_ID, CORPUS_ID, IDX_ADDRESS, get_jwt_token(), query_txt\n",
    ")\n",
    "summary"
   ]
  },
  {
   "cell_type": "code",
   "execution_count": 57,
   "metadata": {},
   "outputs": [
    {
     "data": {
      "text/plain": [
       "0.7441291"
      ]
     },
     "execution_count": 57,
     "metadata": {},
     "output_type": "execute_result"
    }
   ],
   "source": [
    "score"
   ]
  },
  {
   "cell_type": "code",
   "execution_count": 73,
   "metadata": {},
   "outputs": [
    {
     "data": {
      "text/plain": [
       "3"
      ]
     },
     "execution_count": 73,
     "metadata": {},
     "output_type": "execute_result"
    }
   ],
   "source": [
    "len(documents)"
   ]
  },
  {
   "cell_type": "markdown",
   "metadata": {},
   "source": [
    "## Validate With Tonic Validate"
   ]
  },
  {
   "cell_type": "code",
   "execution_count": 61,
   "metadata": {},
   "outputs": [],
   "source": [
    "from tonic_validate import ValidateScorer, Benchmark, LLMResponse, ValidateApi\n",
    "from tonic_validate.metrics import (\n",
    "    AnswerSimilarityMetric,\n",
    "    RetrievalPrecisionMetric,\n",
    "    AugmentationPrecisionMetric,\n",
    "    AugmentationAccuracyMetric,\n",
    "    AnswerConsistencyMetric,\n",
    ")\n",
    "import time\n",
    "import datetime\n",
    "from tqdm import tqdm"
   ]
  },
  {
   "cell_type": "code",
   "execution_count": 65,
   "metadata": {},
   "outputs": [],
   "source": [
    "from tonic_validate import ValidateApi\n",
    "\n",
    "validate_api = ValidateApi(TONIC_VALIDATE_API_KEY)\n",
    "benchmark = validate_api.get_benchmark(\"fff9af14-643e-4bfd-b565-e8761c1dca88\")"
   ]
  },
  {
   "cell_type": "code",
   "execution_count": 67,
   "metadata": {},
   "outputs": [
    {
     "data": {
      "text/plain": [
       "[BenchmarkItem(question='What was the followup plan for Charlotte Gonzalez', answer='Neurology follow-up after MRI results', benchmark_id=None),\n",
       " BenchmarkItem(question='Why did Amelia Sanchez visit the hospital?', answer='Routine check-up for celiac disease management.', benchmark_id=None),\n",
       " BenchmarkItem(question='Does Amelia Sanchez have any known allergies?', answer='Gluten', benchmark_id=None),\n",
       " BenchmarkItem(question='Which doctor took care of Benjamin Lee', answer='Dr. Richard Kim', benchmark_id=None),\n",
       " BenchmarkItem(question=\"What is Amelia Sanchez's date of birth?\", answer='October 23, 1989', benchmark_id=None),\n",
       " BenchmarkItem(question='Which doctor took care of Amelia Sanchez?', answer='Dr. Anita Gupta with qualifications in MD, Gastroenterology ', benchmark_id=None),\n",
       " BenchmarkItem(question='What is the medical history of Benjamin Lee', answer='Chronic kidney disease ', benchmark_id=None),\n",
       " BenchmarkItem(question='What was the treatment plan for Amelia Sanchez?', answer='Medications Prescribed: None \\nReferrals to Specialists: None required currently \\nPhysiotherapy or Other Rehabilitative Services: Continued dietary management', benchmark_id=None),\n",
       " BenchmarkItem(question='what were the lab test results for Benjamin Lee', answer='Slightly elevated creatinine from the kidney function tests', benchmark_id=None),\n",
       " BenchmarkItem(question='Does Charlotte Gonzalez have any allergies?', answer='Bees', benchmark_id=None),\n",
       " BenchmarkItem(question='What treatment plan was recommended for  Emma Clark', answer='Ibuprofen for headaches and a visit to Optometrist for vision correction', benchmark_id=None),\n",
       " BenchmarkItem(question='What was the primary diagnosis of Benjamin Lee', answer='he was found to have  Chronic kidney disease, stage 3 ', benchmark_id=None),\n",
       " BenchmarkItem(question='Why did Charlotte Gonzalez visit the hospital?', answer='Migraine episodes were increasing in frequency', benchmark_id=None),\n",
       " BenchmarkItem(question='what was Isabella Patel diagnosed with?', answer='She was diagnosed with Hypothyroidism, and requires adjustment in management', benchmark_id=None),\n",
       " BenchmarkItem(question='When was Benjamin Lee scheduled to revisit the hospital?', answer='Nephrology follow-up in 3 months', benchmark_id=None),\n",
       " BenchmarkItem(question='What did the lab results of Charlotte Gonzalez show?', answer='there was nothing from her lab results', benchmark_id=None),\n",
       " BenchmarkItem(question=\"does James O'Neil have any past known ailments?\", answer='he has a medical history of asthma', benchmark_id=None),\n",
       " BenchmarkItem(question=\"Is there any history of disease in Charlotte Gonzalez's family\", answer='Her aunt had breast cancer', benchmark_id=None),\n",
       " BenchmarkItem(question='Can  Emma Clark take aspirin?', answer=\"No, she's allergic to aspirin \", benchmark_id=None),\n",
       " BenchmarkItem(question=\"Are there any known diseases in John Doe's family\", answer='His father suffered from heart disease and his mom had diabetes', benchmark_id=None),\n",
       " BenchmarkItem(question=\"What was the reason James O'Neil visited the hospital?\", answer='The visit was for the routine asthma review', benchmark_id=None)]"
      ]
     },
     "execution_count": 67,
     "metadata": {},
     "output_type": "execute_result"
    }
   ],
   "source": [
    "benchmark.items"
   ]
  },
  {
   "cell_type": "code",
   "execution_count": null,
   "metadata": {},
   "outputs": [],
   "source": []
  },
  {
   "cell_type": "code",
   "execution_count": 74,
   "metadata": {},
   "outputs": [
    {
     "name": "stdout",
     "output_type": "stream",
     "text": [
      "Scoring responses...\n"
     ]
    },
    {
     "name": "stderr",
     "output_type": "stream",
     "text": [
      "Retrieving responses:   0%|          | 0/21 [00:15<?, ?it/s]\n"
     ]
    },
    {
     "ename": "ValueError",
     "evalue": "not enough values to unpack (expected 4, got 1)",
     "output_type": "error",
     "traceback": [
      "\u001b[1;31m---------------------------------------------------------------------------\u001b[0m",
      "\u001b[1;31mValueError\u001b[0m                                Traceback (most recent call last)",
      "Cell \u001b[1;32mIn[74], line 22\u001b[0m\n\u001b[0;32m     10\u001b[0m \u001b[38;5;28mprint\u001b[39m(\u001b[38;5;124m\"\u001b[39m\u001b[38;5;124mScoring responses...\u001b[39m\u001b[38;5;124m\"\u001b[39m)\n\u001b[0;32m     11\u001b[0m scorer \u001b[38;5;241m=\u001b[39m ValidateScorer(\n\u001b[0;32m     12\u001b[0m     [\n\u001b[0;32m     13\u001b[0m         AnswerSimilarityMetric(),\n\u001b[1;32m   (...)\u001b[0m\n\u001b[0;32m     20\u001b[0m     fail_on_error\u001b[38;5;241m=\u001b[39m\u001b[38;5;28;01mTrue\u001b[39;00m,\n\u001b[0;32m     21\u001b[0m )\n\u001b[1;32m---> 22\u001b[0m run \u001b[38;5;241m=\u001b[39m \u001b[43mscorer\u001b[49m\u001b[38;5;241;43m.\u001b[39;49m\u001b[43mscore\u001b[49m\u001b[43m(\u001b[49m\u001b[43mbenchmark\u001b[49m\u001b[43m,\u001b[49m\u001b[43m \u001b[49m\u001b[43mget_rag_response\u001b[49m\u001b[43m)\u001b[49m\n\u001b[0;32m     23\u001b[0m validate_api \u001b[38;5;241m=\u001b[39m ValidateApi(TONIC_VALIDATE_API_KEY)\n\u001b[0;32m     24\u001b[0m validate_api\u001b[38;5;241m.\u001b[39mupload_run(\n\u001b[0;32m     25\u001b[0m     \u001b[38;5;124m\"\u001b[39m\u001b[38;5;124m145ee5b0-4e7b-4abd-aeac-243b59274926\u001b[39m\u001b[38;5;124m\"\u001b[39m,\n\u001b[0;32m     26\u001b[0m     run,\n\u001b[1;32m   (...)\u001b[0m\n\u001b[0;32m     31\u001b[0m     },\n\u001b[0;32m     32\u001b[0m )\n",
      "File \u001b[1;32mc:\\Users\\TurnerZ\\Documents\\GitHub\\SimpliMedi-Search\\.venv\\Lib\\site-packages\\pydantic\\validate_call_decorator.py:59\u001b[0m, in \u001b[0;36mvalidate_call.<locals>.validate.<locals>.wrapper_function\u001b[1;34m(*args, **kwargs)\u001b[0m\n\u001b[0;32m     57\u001b[0m \u001b[38;5;129m@functools\u001b[39m\u001b[38;5;241m.\u001b[39mwraps(function)\n\u001b[0;32m     58\u001b[0m \u001b[38;5;28;01mdef\u001b[39;00m \u001b[38;5;21mwrapper_function\u001b[39m(\u001b[38;5;241m*\u001b[39margs, \u001b[38;5;241m*\u001b[39m\u001b[38;5;241m*\u001b[39mkwargs):\n\u001b[1;32m---> 59\u001b[0m     \u001b[38;5;28;01mreturn\u001b[39;00m \u001b[43mvalidate_call_wrapper\u001b[49m\u001b[43m(\u001b[49m\u001b[38;5;241;43m*\u001b[39;49m\u001b[43margs\u001b[49m\u001b[43m,\u001b[49m\u001b[43m \u001b[49m\u001b[38;5;241;43m*\u001b[39;49m\u001b[38;5;241;43m*\u001b[39;49m\u001b[43mkwargs\u001b[49m\u001b[43m)\u001b[49m\n",
      "File \u001b[1;32mc:\\Users\\TurnerZ\\Documents\\GitHub\\SimpliMedi-Search\\.venv\\Lib\\site-packages\\pydantic\\_internal\\_validate_call.py:81\u001b[0m, in \u001b[0;36mValidateCallWrapper.__call__\u001b[1;34m(self, *args, **kwargs)\u001b[0m\n\u001b[0;32m     80\u001b[0m \u001b[38;5;28;01mdef\u001b[39;00m \u001b[38;5;21m__call__\u001b[39m(\u001b[38;5;28mself\u001b[39m, \u001b[38;5;241m*\u001b[39margs: Any, \u001b[38;5;241m*\u001b[39m\u001b[38;5;241m*\u001b[39mkwargs: Any) \u001b[38;5;241m-\u001b[39m\u001b[38;5;241m>\u001b[39m Any:\n\u001b[1;32m---> 81\u001b[0m     res \u001b[38;5;241m=\u001b[39m \u001b[38;5;28;43mself\u001b[39;49m\u001b[38;5;241;43m.\u001b[39;49m\u001b[43m__pydantic_validator__\u001b[49m\u001b[38;5;241;43m.\u001b[39;49m\u001b[43mvalidate_python\u001b[49m\u001b[43m(\u001b[49m\u001b[43mpydantic_core\u001b[49m\u001b[38;5;241;43m.\u001b[39;49m\u001b[43mArgsKwargs\u001b[49m\u001b[43m(\u001b[49m\u001b[43margs\u001b[49m\u001b[43m,\u001b[49m\u001b[43m \u001b[49m\u001b[43mkwargs\u001b[49m\u001b[43m)\u001b[49m\u001b[43m)\u001b[49m\n\u001b[0;32m     82\u001b[0m     \u001b[38;5;28;01mif\u001b[39;00m \u001b[38;5;28mself\u001b[39m\u001b[38;5;241m.\u001b[39m__return_pydantic_validator__:\n\u001b[0;32m     83\u001b[0m         \u001b[38;5;28;01mreturn\u001b[39;00m \u001b[38;5;28mself\u001b[39m\u001b[38;5;241m.\u001b[39m__return_pydantic_validator__(res)\n",
      "File \u001b[1;32mc:\\Users\\TurnerZ\\Documents\\GitHub\\SimpliMedi-Search\\.venv\\Lib\\site-packages\\tonic_validate\\validate_scorer.py:348\u001b[0m, in \u001b[0;36mValidateScorer.score\u001b[1;34m(self, benchmark, callback, callback_parallelism, scoring_parallelism)\u001b[0m\n\u001b[0;32m    340\u001b[0m     \u001b[38;5;28;01mreturn\u001b[39;00m LLMResponse(\n\u001b[0;32m    341\u001b[0m         llm_answer\u001b[38;5;241m=\u001b[39mcallback_response[\u001b[38;5;124m\"\u001b[39m\u001b[38;5;124mllm_answer\u001b[39m\u001b[38;5;124m\"\u001b[39m],\n\u001b[0;32m    342\u001b[0m         llm_context_list\u001b[38;5;241m=\u001b[39mcallback_response[\u001b[38;5;124m\"\u001b[39m\u001b[38;5;124mllm_context_list\u001b[39m\u001b[38;5;124m\"\u001b[39m],\n\u001b[0;32m    343\u001b[0m         benchmark_item\u001b[38;5;241m=\u001b[39mitem,\n\u001b[0;32m    344\u001b[0m         run_time\u001b[38;5;241m=\u001b[39mrun_time,\n\u001b[0;32m    345\u001b[0m     )\n\u001b[0;32m    347\u001b[0m \u001b[38;5;28;01mwith\u001b[39;00m ThreadPoolExecutor(max_workers\u001b[38;5;241m=\u001b[39mcallback_parallelism) \u001b[38;5;28;01mas\u001b[39;00m executor:\n\u001b[1;32m--> 348\u001b[0m     responses \u001b[38;5;241m=\u001b[39m \u001b[38;5;28;43mlist\u001b[39;49m\u001b[43m(\u001b[49m\n\u001b[0;32m    349\u001b[0m \u001b[43m        \u001b[49m\u001b[43mtqdm\u001b[49m\u001b[43m(\u001b[49m\n\u001b[0;32m    350\u001b[0m \u001b[43m            \u001b[49m\u001b[43mexecutor\u001b[49m\u001b[38;5;241;43m.\u001b[39;49m\u001b[43mmap\u001b[49m\u001b[43m(\u001b[49m\u001b[43mcreate_response\u001b[49m\u001b[43m,\u001b[49m\u001b[43m \u001b[49m\u001b[43mbenchmark\u001b[49m\u001b[38;5;241;43m.\u001b[39;49m\u001b[43mitems\u001b[49m\u001b[43m)\u001b[49m\u001b[43m,\u001b[49m\n\u001b[0;32m    351\u001b[0m \u001b[43m            \u001b[49m\u001b[43mtotal\u001b[49m\u001b[38;5;241;43m=\u001b[39;49m\u001b[38;5;28;43mlen\u001b[39;49m\u001b[43m(\u001b[49m\u001b[43mbenchmark\u001b[49m\u001b[38;5;241;43m.\u001b[39;49m\u001b[43mitems\u001b[49m\u001b[43m)\u001b[49m\u001b[43m,\u001b[49m\n\u001b[0;32m    352\u001b[0m \u001b[43m            \u001b[49m\u001b[43mdesc\u001b[49m\u001b[38;5;241;43m=\u001b[39;49m\u001b[38;5;124;43m\"\u001b[39;49m\u001b[38;5;124;43mRetrieving responses\u001b[39;49m\u001b[38;5;124;43m\"\u001b[39;49m\u001b[43m,\u001b[49m\n\u001b[0;32m    353\u001b[0m \u001b[43m            \u001b[49m\u001b[43mdisable\u001b[49m\u001b[38;5;241;43m=\u001b[39;49m\u001b[38;5;28;43mself\u001b[39;49m\u001b[38;5;241;43m.\u001b[39;49m\u001b[43mquiet\u001b[49m\u001b[43m,\u001b[49m\n\u001b[0;32m    354\u001b[0m \u001b[43m        \u001b[49m\u001b[43m)\u001b[49m\n\u001b[0;32m    355\u001b[0m \u001b[43m    \u001b[49m\u001b[43m)\u001b[49m\n\u001b[0;32m    357\u001b[0m \u001b[38;5;28;01mreturn\u001b[39;00m \u001b[38;5;28mself\u001b[39m\u001b[38;5;241m.\u001b[39mscore_responses(responses, scoring_parallelism)\n",
      "File \u001b[1;32mc:\\Users\\TurnerZ\\Documents\\GitHub\\SimpliMedi-Search\\.venv\\Lib\\site-packages\\tqdm\\std.py:1181\u001b[0m, in \u001b[0;36mtqdm.__iter__\u001b[1;34m(self)\u001b[0m\n\u001b[0;32m   1178\u001b[0m time \u001b[38;5;241m=\u001b[39m \u001b[38;5;28mself\u001b[39m\u001b[38;5;241m.\u001b[39m_time\n\u001b[0;32m   1180\u001b[0m \u001b[38;5;28;01mtry\u001b[39;00m:\n\u001b[1;32m-> 1181\u001b[0m \u001b[43m    \u001b[49m\u001b[38;5;28;43;01mfor\u001b[39;49;00m\u001b[43m \u001b[49m\u001b[43mobj\u001b[49m\u001b[43m \u001b[49m\u001b[38;5;129;43;01min\u001b[39;49;00m\u001b[43m \u001b[49m\u001b[43miterable\u001b[49m\u001b[43m:\u001b[49m\n\u001b[0;32m   1182\u001b[0m \u001b[43m        \u001b[49m\u001b[38;5;28;43;01myield\u001b[39;49;00m\u001b[43m \u001b[49m\u001b[43mobj\u001b[49m\n\u001b[0;32m   1183\u001b[0m \u001b[43m        \u001b[49m\u001b[38;5;66;43;03m# Update and possibly print the progressbar.\u001b[39;49;00m\n\u001b[0;32m   1184\u001b[0m \u001b[43m        \u001b[49m\u001b[38;5;66;43;03m# Note: does not call self.update(1) for speed optimisation.\u001b[39;49;00m\n",
      "File \u001b[1;32m~\\anaconda3\\Lib\\concurrent\\futures\\_base.py:619\u001b[0m, in \u001b[0;36mExecutor.map.<locals>.result_iterator\u001b[1;34m()\u001b[0m\n\u001b[0;32m    616\u001b[0m \u001b[38;5;28;01mwhile\u001b[39;00m fs:\n\u001b[0;32m    617\u001b[0m     \u001b[38;5;66;03m# Careful not to keep a reference to the popped future\u001b[39;00m\n\u001b[0;32m    618\u001b[0m     \u001b[38;5;28;01mif\u001b[39;00m timeout \u001b[38;5;129;01mis\u001b[39;00m \u001b[38;5;28;01mNone\u001b[39;00m:\n\u001b[1;32m--> 619\u001b[0m         \u001b[38;5;28;01myield\u001b[39;00m \u001b[43m_result_or_cancel\u001b[49m\u001b[43m(\u001b[49m\u001b[43mfs\u001b[49m\u001b[38;5;241;43m.\u001b[39;49m\u001b[43mpop\u001b[49m\u001b[43m(\u001b[49m\u001b[43m)\u001b[49m\u001b[43m)\u001b[49m\n\u001b[0;32m    620\u001b[0m     \u001b[38;5;28;01melse\u001b[39;00m:\n\u001b[0;32m    621\u001b[0m         \u001b[38;5;28;01myield\u001b[39;00m _result_or_cancel(fs\u001b[38;5;241m.\u001b[39mpop(), end_time \u001b[38;5;241m-\u001b[39m time\u001b[38;5;241m.\u001b[39mmonotonic())\n",
      "File \u001b[1;32m~\\anaconda3\\Lib\\concurrent\\futures\\_base.py:317\u001b[0m, in \u001b[0;36m_result_or_cancel\u001b[1;34m(***failed resolving arguments***)\u001b[0m\n\u001b[0;32m    315\u001b[0m \u001b[38;5;28;01mtry\u001b[39;00m:\n\u001b[0;32m    316\u001b[0m     \u001b[38;5;28;01mtry\u001b[39;00m:\n\u001b[1;32m--> 317\u001b[0m         \u001b[38;5;28;01mreturn\u001b[39;00m \u001b[43mfut\u001b[49m\u001b[38;5;241;43m.\u001b[39;49m\u001b[43mresult\u001b[49m\u001b[43m(\u001b[49m\u001b[43mtimeout\u001b[49m\u001b[43m)\u001b[49m\n\u001b[0;32m    318\u001b[0m     \u001b[38;5;28;01mfinally\u001b[39;00m:\n\u001b[0;32m    319\u001b[0m         fut\u001b[38;5;241m.\u001b[39mcancel()\n",
      "File \u001b[1;32m~\\anaconda3\\Lib\\concurrent\\futures\\_base.py:456\u001b[0m, in \u001b[0;36mFuture.result\u001b[1;34m(self, timeout)\u001b[0m\n\u001b[0;32m    454\u001b[0m     \u001b[38;5;28;01mraise\u001b[39;00m CancelledError()\n\u001b[0;32m    455\u001b[0m \u001b[38;5;28;01melif\u001b[39;00m \u001b[38;5;28mself\u001b[39m\u001b[38;5;241m.\u001b[39m_state \u001b[38;5;241m==\u001b[39m FINISHED:\n\u001b[1;32m--> 456\u001b[0m     \u001b[38;5;28;01mreturn\u001b[39;00m \u001b[38;5;28;43mself\u001b[39;49m\u001b[38;5;241;43m.\u001b[39;49m\u001b[43m__get_result\u001b[49m\u001b[43m(\u001b[49m\u001b[43m)\u001b[49m\n\u001b[0;32m    457\u001b[0m \u001b[38;5;28;01melse\u001b[39;00m:\n\u001b[0;32m    458\u001b[0m     \u001b[38;5;28;01mraise\u001b[39;00m \u001b[38;5;167;01mTimeoutError\u001b[39;00m()\n",
      "File \u001b[1;32m~\\anaconda3\\Lib\\concurrent\\futures\\_base.py:401\u001b[0m, in \u001b[0;36mFuture.__get_result\u001b[1;34m(self)\u001b[0m\n\u001b[0;32m    399\u001b[0m \u001b[38;5;28;01mif\u001b[39;00m \u001b[38;5;28mself\u001b[39m\u001b[38;5;241m.\u001b[39m_exception:\n\u001b[0;32m    400\u001b[0m     \u001b[38;5;28;01mtry\u001b[39;00m:\n\u001b[1;32m--> 401\u001b[0m         \u001b[38;5;28;01mraise\u001b[39;00m \u001b[38;5;28mself\u001b[39m\u001b[38;5;241m.\u001b[39m_exception\n\u001b[0;32m    402\u001b[0m     \u001b[38;5;28;01mfinally\u001b[39;00m:\n\u001b[0;32m    403\u001b[0m         \u001b[38;5;66;03m# Break a reference cycle with the exception in self._exception\u001b[39;00m\n\u001b[0;32m    404\u001b[0m         \u001b[38;5;28mself\u001b[39m \u001b[38;5;241m=\u001b[39m \u001b[38;5;28;01mNone\u001b[39;00m\n",
      "File \u001b[1;32m~\\anaconda3\\Lib\\concurrent\\futures\\thread.py:58\u001b[0m, in \u001b[0;36m_WorkItem.run\u001b[1;34m(self)\u001b[0m\n\u001b[0;32m     55\u001b[0m     \u001b[38;5;28;01mreturn\u001b[39;00m\n\u001b[0;32m     57\u001b[0m \u001b[38;5;28;01mtry\u001b[39;00m:\n\u001b[1;32m---> 58\u001b[0m     result \u001b[38;5;241m=\u001b[39m \u001b[38;5;28;43mself\u001b[39;49m\u001b[38;5;241;43m.\u001b[39;49m\u001b[43mfn\u001b[49m\u001b[43m(\u001b[49m\u001b[38;5;241;43m*\u001b[39;49m\u001b[38;5;28;43mself\u001b[39;49m\u001b[38;5;241;43m.\u001b[39;49m\u001b[43margs\u001b[49m\u001b[43m,\u001b[49m\u001b[43m \u001b[49m\u001b[38;5;241;43m*\u001b[39;49m\u001b[38;5;241;43m*\u001b[39;49m\u001b[38;5;28;43mself\u001b[39;49m\u001b[38;5;241;43m.\u001b[39;49m\u001b[43mkwargs\u001b[49m\u001b[43m)\u001b[49m\n\u001b[0;32m     59\u001b[0m \u001b[38;5;28;01mexcept\u001b[39;00m \u001b[38;5;167;01mBaseException\u001b[39;00m \u001b[38;5;28;01mas\u001b[39;00m exc:\n\u001b[0;32m     60\u001b[0m     \u001b[38;5;28mself\u001b[39m\u001b[38;5;241m.\u001b[39mfuture\u001b[38;5;241m.\u001b[39mset_exception(exc)\n",
      "File \u001b[1;32mc:\\Users\\TurnerZ\\Documents\\GitHub\\SimpliMedi-Search\\.venv\\Lib\\site-packages\\tonic_validate\\validate_scorer.py:335\u001b[0m, in \u001b[0;36mValidateScorer.score.<locals>.create_response\u001b[1;34m(item)\u001b[0m\n\u001b[0;32m    332\u001b[0m \u001b[38;5;28;01mdef\u001b[39;00m \u001b[38;5;21mcreate_response\u001b[39m(item: BenchmarkItem) \u001b[38;5;241m-\u001b[39m\u001b[38;5;241m>\u001b[39m LLMResponse:\n\u001b[0;32m    333\u001b[0m     \u001b[38;5;66;03m# Time the callback\u001b[39;00m\n\u001b[0;32m    334\u001b[0m     start_time \u001b[38;5;241m=\u001b[39m time\u001b[38;5;241m.\u001b[39mtime()\n\u001b[1;32m--> 335\u001b[0m     callback_response \u001b[38;5;241m=\u001b[39m \u001b[43mcallback\u001b[49m\u001b[43m(\u001b[49m\u001b[43mitem\u001b[49m\u001b[38;5;241;43m.\u001b[39;49m\u001b[43mquestion\u001b[49m\u001b[43m)\u001b[49m\n\u001b[0;32m    336\u001b[0m     \u001b[38;5;66;03m# Validate type of callback_response\u001b[39;00m\n\u001b[0;32m    337\u001b[0m     CallbackValidator\u001b[38;5;241m.\u001b[39mvalidate_python(callback_response)\n",
      "Cell \u001b[1;32mIn[74], line 2\u001b[0m, in \u001b[0;36mget_rag_response\u001b[1;34m(query_txt)\u001b[0m\n\u001b[0;32m      1\u001b[0m \u001b[38;5;28;01mdef\u001b[39;00m \u001b[38;5;21mget_rag_response\u001b[39m(query_txt):\n\u001b[1;32m----> 2\u001b[0m     results, summary, score, documents \u001b[38;5;241m=\u001b[39m query_corpus(CUSTOMER_ID, CORPUS_ID, IDX_ADDRESS, get_jwt_token(), query_txt),\n\u001b[0;32m      3\u001b[0m     context_list \u001b[38;5;241m=\u001b[39m [doc[\u001b[38;5;124m'\u001b[39m\u001b[38;5;124mmetadata\u001b[39m\u001b[38;5;124m'\u001b[39m][\u001b[38;5;241m6\u001b[39m][\u001b[38;5;124m'\u001b[39m\u001b[38;5;124mvalue\u001b[39m\u001b[38;5;124m'\u001b[39m] \u001b[38;5;28;01mfor\u001b[39;00m doc \u001b[38;5;129;01min\u001b[39;00m documents]\n\u001b[0;32m      4\u001b[0m     \u001b[38;5;28;01mreturn\u001b[39;00m {\n\u001b[0;32m      5\u001b[0m         \u001b[38;5;124m\"\u001b[39m\u001b[38;5;124mllm_answer\u001b[39m\u001b[38;5;124m\"\u001b[39m: summary,\n\u001b[0;32m      6\u001b[0m         \u001b[38;5;124m\"\u001b[39m\u001b[38;5;124mllm_context_list\u001b[39m\u001b[38;5;124m\"\u001b[39m: context_list\n\u001b[0;32m      7\u001b[0m     }\n",
      "\u001b[1;31mValueError\u001b[0m: not enough values to unpack (expected 4, got 1)"
     ]
    }
   ],
   "source": [
    "def get_rag_response(query_txt):\n",
    "    results, summary, score, documents = (\n",
    "        query_corpus(CUSTOMER_ID, CORPUS_ID, IDX_ADDRESS, get_jwt_token(), query_txt),\n",
    "    )\n",
    "    context_list = [doc[\"metadata\"][6][\"value\"] for doc in documents]\n",
    "    return {\"llm_answer\": summary, \"llm_context_list\": context_list}\n",
    "\n",
    "\n",
    "# Score the responses\n",
    "print(\"Scoring responses...\")\n",
    "scorer = ValidateScorer(\n",
    "    [\n",
    "        AnswerSimilarityMetric(),\n",
    "        RetrievalPrecisionMetric(),\n",
    "        AugmentationPrecisionMetric(),\n",
    "        AugmentationAccuracyMetric(),\n",
    "        AnswerConsistencyMetric(),\n",
    "    ],\n",
    "    model_evaluator=\"gpt-3.5-turbo\",\n",
    "    fail_on_error=True,\n",
    ")\n",
    "run = scorer.score(benchmark, get_rag_response)\n",
    "validate_api = ValidateApi(TONIC_VALIDATE_API_KEY)\n",
    "validate_api.upload_run(\n",
    "    \"145ee5b0-4e7b-4abd-aeac-243b59274926\",\n",
    "    run,\n",
    "    run_metadata={\n",
    "        \"run_name\": \"Init Run\",\n",
    "        \"top_k\": 5,\n",
    "        \"summarized_top_k\": 10,\n",
    "    },\n",
    ")\n",
    "print(\"Done!\")"
   ]
  },
  {
   "cell_type": "markdown",
   "metadata": {},
   "source": [
    "## Query With LlamaIndex"
   ]
  },
  {
   "cell_type": "code",
   "execution_count": 117,
   "metadata": {},
   "outputs": [],
   "source": [
    "load_dotenv()\n",
    "os.environ[\"VECTARA_CUSTOMER_ID\"] = os.environ.get(\"CUSTOMER_ID\")\n",
    "os.environ[\"VECTARA_CORPUS_ID\"] = \"6\"\n",
    "os.environ[\"VECTARA_API_KEY\"] = os.environ.get(\"CORPUS_6_API_KEY\")"
   ]
  },
  {
   "cell_type": "code",
   "execution_count": 119,
   "metadata": {},
   "outputs": [
    {
     "name": "stdout",
     "output_type": "stream",
     "text": [
      "LLM is explicitly disabled. Using MockLLM.\n",
      "Embeddings have been explicitly disabled. Using MockEmbedding.\n"
     ]
    },
    {
     "data": {
      "text/plain": [
       "\"John Doe's condition was diagnosed as chronic kidney disease, stage 3. He presented complaints of severe abdominal pain, nausea, and occasional dizziness, with slightly elevated creatinine levels. The treatment plan included ACE inhibitors for blood pressure management and a referral to a nephrologist for ongoing care. The prognosis involved potential stabilization of the condition with follow-up scheduled in three months. The specialist recommended continued nephrology follow-up and diet consultation for kidney health [2].\""
      ]
     },
     "execution_count": 119,
     "metadata": {},
     "output_type": "execute_result"
    }
   ],
   "source": [
    "from llama_index.core.readers import SimpleDirectoryReader\n",
    "from llama_index.indices.managed.vectara import VectaraIndex\n",
    "\n",
    "index = VectaraIndex()\n",
    "query_engine = index.as_query_engine()\n",
    "response = query_engine.query(\"What was John Doe's condition?\")\n",
    "response.response"
   ]
  },
  {
   "cell_type": "code",
   "execution_count": null,
   "metadata": {},
   "outputs": [],
   "source": [
    "os.environ[\"VECTARA_CORPUS_ID\"] = \"7\"\n",
    "os.environ[\"VECTARA_API_KEY\"] = os.environ.get(\"CORPUS_7_API_KEY\")"
   ]
  },
  {
   "cell_type": "code",
   "execution_count": 101,
   "metadata": {},
   "outputs": [
    {
     "name": "stdout",
     "output_type": "stream",
     "text": [
      "LLM is explicitly disabled. Using MockLLM.\n",
      "Embeddings have been explicitly disabled. Using MockEmbedding.\n"
     ]
    }
   ],
   "source": [
    "from llama_index.core.readers import SimpleDirectoryReader\n",
    "from llama_index.indices.managed.vectara import VectaraIndex\n",
    "\n",
    "documents = SimpleDirectoryReader(\"corpus\").load_data()\n",
    "index = VectaraIndex().from_documents(documents)"
   ]
  },
  {
   "cell_type": "code",
   "execution_count": 97,
   "metadata": {},
   "outputs": [
    {
     "data": {
      "text/plain": [
       "Response(response='', source_nodes=[], metadata=None)"
      ]
     },
     "execution_count": 97,
     "metadata": {},
     "output_type": "execute_result"
    }
   ],
   "source": [
    "# Get an answer to the query based on the content of the essay\n",
    "response = index.as_query_engine(\n",
    "    similarity_top_k=5,\n",
    ")\n",
    "answer = response.query(\"What was John Doe's condition?\")\n",
    "answer"
   ]
  },
  {
   "cell_type": "code",
   "execution_count": 88,
   "metadata": {},
   "outputs": [
    {
     "name": "stdout",
     "output_type": "stream",
     "text": [
      "None\n"
     ]
    }
   ],
   "source": [
    "response = index.as_query_engine().query(\"What was John Doe's condition?\")\n",
    "print(response)"
   ]
  },
  {
   "cell_type": "code",
   "execution_count": 1,
   "metadata": {},
   "outputs": [],
   "source": [
    "import os\n",
    "from together import Together\n",
    "\n",
    "TOGETHER_API_KEY = os.environ.get(\"TOGETHER_API_KEY\")\n",
    "client = Together(api_key=TOGETHER_API_KEY)"
   ]
  },
  {
   "cell_type": "code",
   "execution_count": 2,
   "metadata": {},
   "outputs": [
    {
     "ename": "APIError",
     "evalue": "Error code: 524 - Error code: 524 -<!DOCTYPE html>\n<!--[if lt IE 7]> <html class=\"no-js ie6 oldie\" lang=\"en-US\"> <![endif]-->\n<!--[if IE 7]>    <html class=\"no-js ie7 oldie\" lang=\"en-US\"> <![endif]-->\n<!--[if IE 8]>    <html class=\"no-js ie8 oldie\" lang=\"en-US\"> <![endif]-->\n<!--[if gt IE 8]><!--> <html class=\"no-js\" lang=\"en-US\"> <!--<![endif]-->\n<head>\n\n\n<title>api.together.xyz | 524: A timeout occurred</title>\n<meta charset=\"UTF-8\" />\n<meta http-equiv=\"Content-Type\" content=\"text/html; charset=UTF-8\" />\n<meta http-equiv=\"X-UA-Compatible\" content=\"IE=Edge\" />\n<meta name=\"robots\" content=\"noindex, nofollow\" />\n<meta name=\"viewport\" content=\"width=device-width,initial-scale=1\" />\n<link rel=\"stylesheet\" id=\"cf_styles-css\" href=\"/cdn-cgi/styles/main.css\" />\n\n\n</head>\n<body>\n<div id=\"cf-wrapper\">\n    <div id=\"cf-error-details\" class=\"p-0\">\n        <header class=\"mx-auto pt-10 lg:pt-6 lg:px-8 w-240 lg:w-full mb-8\">\n            <h1 class=\"inline-block sm:block sm:mb-2 font-light text-60 lg:text-4xl text-black-dark leading-tight mr-2\">\n              <span class=\"inline-block\">A timeout occurred</span>\n              <span class=\"code-label\">Error code 524</span>\n            </h1>\n            <div>\n               Visit <a href=\"https://www.cloudflare.com/5xx-error-landing?utm_source=errorcode_524&utm_campaign=api.together.xyz\" target=\"_blank\" rel=\"noopener noreferrer\">cloudflare.com</a> for more information.\n            </div>\n            <div class=\"mt-3\">2024-04-19 15:26:23 UTC</div>\n        </header>\n        <div class=\"my-8 bg-gradient-gray\">\n            <div class=\"w-240 lg:w-full mx-auto\">\n                <div class=\"clearfix md:px-8\">\n                  \n<div id=\"cf-browser-status\" class=\" relative w-1/3 md:w-full py-15 md:p-0 md:py-8 md:text-left md:border-solid md:border-0 md:border-b md:border-gray-400 overflow-hidden float-left md:float-none text-center\">\n  <div class=\"relative mb-10 md:m-0\">\n    \n    <span class=\"cf-icon-browser block md:hidden h-20 bg-center bg-no-repeat\"></span>\n    <span class=\"cf-icon-ok w-12 h-12 absolute left-1/2 md:left-auto md:right-0 md:top-0 -ml-6 -bottom-4\"></span>\n    \n  </div>\n  <span class=\"md:block w-full truncate\">You</span>\n  <h3 class=\"md:inline-block mt-3 md:mt-0 text-2xl text-gray-600 font-light leading-1.3\">\n    \n    Browser\n    \n  </h3>\n  <span class=\"leading-1.3 text-2xl text-green-success\">Working</span>\n</div>\n\n<div id=\"cf-cloudflare-status\" class=\" relative w-1/3 md:w-full py-15 md:p-0 md:py-8 md:text-left md:border-solid md:border-0 md:border-b md:border-gray-400 overflow-hidden float-left md:float-none text-center\">\n  <div class=\"relative mb-10 md:m-0\">\n    <a href=\"https://www.cloudflare.com/5xx-error-landing?utm_source=errorcode_524&utm_campaign=api.together.xyz\" target=\"_blank\" rel=\"noopener noreferrer\">\n    <span class=\"cf-icon-cloud block md:hidden h-20 bg-center bg-no-repeat\"></span>\n    <span class=\"cf-icon-ok w-12 h-12 absolute left-1/2 md:left-auto md:right-0 md:top-0 -ml-6 -bottom-4\"></span>\n    </a>\n  </div>\n  <span class=\"md:block w-full truncate\">Lisbon</span>\n  <h3 class=\"md:inline-block mt-3 md:mt-0 text-2xl text-gray-600 font-light leading-1.3\">\n    <a href=\"https://www.cloudflare.com/5xx-error-landing?utm_source=errorcode_524&utm_campaign=api.together.xyz\" target=\"_blank\" rel=\"noopener noreferrer\">\n    Cloudflare\n    </a>\n  </h3>\n  <span class=\"leading-1.3 text-2xl text-green-success\">Working</span>\n</div>\n\n<div id=\"cf-host-status\" class=\"cf-error-source relative w-1/3 md:w-full py-15 md:p-0 md:py-8 md:text-left md:border-solid md:border-0 md:border-b md:border-gray-400 overflow-hidden float-left md:float-none text-center\">\n  <div class=\"relative mb-10 md:m-0\">\n    \n    <span class=\"cf-icon-server block md:hidden h-20 bg-center bg-no-repeat\"></span>\n    <span class=\"cf-icon-error w-12 h-12 absolute left-1/2 md:left-auto md:right-0 md:top-0 -ml-6 -bottom-4\"></span>\n    \n  </div>\n  <span class=\"md:block w-full truncate\">api.together.xyz</span>\n  <h3 class=\"md:inline-block mt-3 md:mt-0 text-2xl text-gray-600 font-light leading-1.3\">\n    \n    Host\n    \n  </h3>\n  <span class=\"leading-1.3 text-2xl text-red-error\">Error</span>\n</div>\n\n                </div>\n            </div>\n        </div>\n\n        <div class=\"w-240 lg:w-full mx-auto mb-8 lg:px-8\">\n            <div class=\"clearfix\">\n                <div class=\"w-1/2 md:w-full float-left pr-6 md:pb-10 md:pr-0 leading-relaxed\">\n                    <h2 class=\"text-3xl font-normal leading-1.3 mb-4\">What happened?</h2>\n                    <p>The origin web server timed out responding to this request.</p>\n                </div>\n                <div class=\"w-1/2 md:w-full float-left leading-relaxed\">\n                    <h2 class=\"text-3xl font-normal leading-1.3 mb-4\">What can I do?</h2>\n                          <h3 class=\"text-15 font-semibold mb-2\">If you're a visitor of this website:</h3>\n      <p class=\"mb-6\">Please try again in a few minutes.</p>\n\n      <h3 class=\"text-15 font-semibold mb-2\">If you're the owner of this website:</h3>\n      <p><span>The connection to the origin web server was made, but the origin web server timed out before responding. The likely cause is an overloaded background task, database or application, stressing the resources on your web server. To resolve, please work with your hosting provider or web development team to free up resources for your database or overloaded application.</span> <a rel=\"noopener noreferrer\" href=\"https://support.cloudflare.com/hc/en-us/articles/200171926-Error-524\">Additional troubleshooting information here.</a></p>\n                </div>\n            </div>\n        </div>\n\n        <div class=\"cf-error-footer cf-wrapper w-240 lg:w-full py-10 sm:py-4 sm:px-8 mx-auto text-center sm:text-left border-solid border-0 border-t border-gray-300\">\n  <p class=\"text-13\">\n    <span class=\"cf-footer-item sm:block sm:mb-1\">Cloudflare Ray ID: <strong class=\"font-semibold\">876de730f9b36935</strong></span>\n    <span class=\"cf-footer-separator sm:hidden\">&bull;</span>\n    <span id=\"cf-footer-item-ip\" class=\"cf-footer-item hidden sm:block sm:mb-1\">\n      Your IP:\n      <button type=\"button\" id=\"cf-footer-ip-reveal\" class=\"cf-footer-ip-reveal-btn\">Click to reveal</button>\n      <span class=\"hidden\" id=\"cf-footer-ip\">154.161.20.227</span>\n      <span class=\"cf-footer-separator sm:hidden\">&bull;</span>\n    </span>\n    <span class=\"cf-footer-item sm:block sm:mb-1\"><span>Performance &amp; security by</span> <a rel=\"noopener noreferrer\" href=\"https://www.cloudflare.com/5xx-error-landing?utm_source=errorcode_524&utm_campaign=api.together.xyz\" id=\"brand_link\" target=\"_blank\">Cloudflare</a></span>\n    \n  </p>\n  <script>(function(){function d(){var b=a.getElementById(\"cf-footer-item-ip\"),c=a.getElementById(\"cf-footer-ip-reveal\");b&&\"classList\"in b&&(b.classList.remove(\"hidden\"),c.addEventListener(\"click\",function(){c.classList.add(\"hidden\");a.getElementById(\"cf-footer-ip\").classList.remove(\"hidden\")}))}var a=document;document.addEventListener&&a.addEventListener(\"DOMContentLoaded\",d)})();</script>\n</div><!-- /.error-footer -->\n\n\n    </div>\n</div>\n</body>\n</html>\n",
     "output_type": "error",
     "traceback": [
      "\u001b[1;31m---------------------------------------------------------------------------\u001b[0m",
      "\u001b[1;31mJSONDecodeError\u001b[0m                           Traceback (most recent call last)",
      "File \u001b[1;32mc:\\Users\\TurnerZ\\Documents\\GitHub\\SimpliMedi-Search\\.venv\\Lib\\site-packages\\together\\abstract\\api_requestor.py:678\u001b[0m, in \u001b[0;36mAPIRequestor._interpret_response_line\u001b[1;34m(self, rbody, rcode, rheaders, stream)\u001b[0m\n\u001b[0;32m    677\u001b[0m     \u001b[38;5;28;01melse\u001b[39;00m:\n\u001b[1;32m--> 678\u001b[0m         data \u001b[38;5;241m=\u001b[39m \u001b[43mjson\u001b[49m\u001b[38;5;241;43m.\u001b[39;49m\u001b[43mloads\u001b[49m\u001b[43m(\u001b[49m\u001b[43mrbody\u001b[49m\u001b[43m)\u001b[49m\n\u001b[0;32m    679\u001b[0m \u001b[38;5;28;01mexcept\u001b[39;00m (JSONDecodeError, \u001b[38;5;167;01mUnicodeDecodeError\u001b[39;00m) \u001b[38;5;28;01mas\u001b[39;00m e:\n",
      "File \u001b[1;32m~\\anaconda3\\Lib\\json\\__init__.py:346\u001b[0m, in \u001b[0;36mloads\u001b[1;34m(s, cls, object_hook, parse_float, parse_int, parse_constant, object_pairs_hook, **kw)\u001b[0m\n\u001b[0;32m    343\u001b[0m \u001b[38;5;28;01mif\u001b[39;00m (\u001b[38;5;28mcls\u001b[39m \u001b[38;5;129;01mis\u001b[39;00m \u001b[38;5;28;01mNone\u001b[39;00m \u001b[38;5;129;01mand\u001b[39;00m object_hook \u001b[38;5;129;01mis\u001b[39;00m \u001b[38;5;28;01mNone\u001b[39;00m \u001b[38;5;129;01mand\u001b[39;00m\n\u001b[0;32m    344\u001b[0m         parse_int \u001b[38;5;129;01mis\u001b[39;00m \u001b[38;5;28;01mNone\u001b[39;00m \u001b[38;5;129;01mand\u001b[39;00m parse_float \u001b[38;5;129;01mis\u001b[39;00m \u001b[38;5;28;01mNone\u001b[39;00m \u001b[38;5;129;01mand\u001b[39;00m\n\u001b[0;32m    345\u001b[0m         parse_constant \u001b[38;5;129;01mis\u001b[39;00m \u001b[38;5;28;01mNone\u001b[39;00m \u001b[38;5;129;01mand\u001b[39;00m object_pairs_hook \u001b[38;5;129;01mis\u001b[39;00m \u001b[38;5;28;01mNone\u001b[39;00m \u001b[38;5;129;01mand\u001b[39;00m \u001b[38;5;129;01mnot\u001b[39;00m kw):\n\u001b[1;32m--> 346\u001b[0m     \u001b[38;5;28;01mreturn\u001b[39;00m \u001b[43m_default_decoder\u001b[49m\u001b[38;5;241;43m.\u001b[39;49m\u001b[43mdecode\u001b[49m\u001b[43m(\u001b[49m\u001b[43ms\u001b[49m\u001b[43m)\u001b[49m\n\u001b[0;32m    347\u001b[0m \u001b[38;5;28;01mif\u001b[39;00m \u001b[38;5;28mcls\u001b[39m \u001b[38;5;129;01mis\u001b[39;00m \u001b[38;5;28;01mNone\u001b[39;00m:\n",
      "File \u001b[1;32m~\\anaconda3\\Lib\\json\\decoder.py:337\u001b[0m, in \u001b[0;36mJSONDecoder.decode\u001b[1;34m(self, s, _w)\u001b[0m\n\u001b[0;32m    333\u001b[0m \u001b[38;5;250m\u001b[39m\u001b[38;5;124;03m\"\"\"Return the Python representation of ``s`` (a ``str`` instance\u001b[39;00m\n\u001b[0;32m    334\u001b[0m \u001b[38;5;124;03mcontaining a JSON document).\u001b[39;00m\n\u001b[0;32m    335\u001b[0m \n\u001b[0;32m    336\u001b[0m \u001b[38;5;124;03m\"\"\"\u001b[39;00m\n\u001b[1;32m--> 337\u001b[0m obj, end \u001b[38;5;241m=\u001b[39m \u001b[38;5;28;43mself\u001b[39;49m\u001b[38;5;241;43m.\u001b[39;49m\u001b[43mraw_decode\u001b[49m\u001b[43m(\u001b[49m\u001b[43ms\u001b[49m\u001b[43m,\u001b[49m\u001b[43m \u001b[49m\u001b[43midx\u001b[49m\u001b[38;5;241;43m=\u001b[39;49m\u001b[43m_w\u001b[49m\u001b[43m(\u001b[49m\u001b[43ms\u001b[49m\u001b[43m,\u001b[49m\u001b[43m \u001b[49m\u001b[38;5;241;43m0\u001b[39;49m\u001b[43m)\u001b[49m\u001b[38;5;241;43m.\u001b[39;49m\u001b[43mend\u001b[49m\u001b[43m(\u001b[49m\u001b[43m)\u001b[49m\u001b[43m)\u001b[49m\n\u001b[0;32m    338\u001b[0m end \u001b[38;5;241m=\u001b[39m _w(s, end)\u001b[38;5;241m.\u001b[39mend()\n",
      "File \u001b[1;32m~\\anaconda3\\Lib\\json\\decoder.py:355\u001b[0m, in \u001b[0;36mJSONDecoder.raw_decode\u001b[1;34m(self, s, idx)\u001b[0m\n\u001b[0;32m    354\u001b[0m \u001b[38;5;28;01mexcept\u001b[39;00m \u001b[38;5;167;01mStopIteration\u001b[39;00m \u001b[38;5;28;01mas\u001b[39;00m err:\n\u001b[1;32m--> 355\u001b[0m     \u001b[38;5;28;01mraise\u001b[39;00m JSONDecodeError(\u001b[38;5;124m\"\u001b[39m\u001b[38;5;124mExpecting value\u001b[39m\u001b[38;5;124m\"\u001b[39m, s, err\u001b[38;5;241m.\u001b[39mvalue) \u001b[38;5;28;01mfrom\u001b[39;00m \u001b[38;5;28;01mNone\u001b[39;00m\n\u001b[0;32m    356\u001b[0m \u001b[38;5;28;01mreturn\u001b[39;00m obj, end\n",
      "\u001b[1;31mJSONDecodeError\u001b[0m: Expecting value: line 1 column 1 (char 0)",
      "\nThe above exception was the direct cause of the following exception:\n",
      "\u001b[1;31mAPIError\u001b[0m                                  Traceback (most recent call last)",
      "Cell \u001b[1;32mIn[2], line 1\u001b[0m\n\u001b[1;32m----> 1\u001b[0m response \u001b[38;5;241m=\u001b[39m \u001b[43mclient\u001b[49m\u001b[38;5;241;43m.\u001b[39;49m\u001b[43mchat\u001b[49m\u001b[38;5;241;43m.\u001b[39;49m\u001b[43mcompletions\u001b[49m\u001b[38;5;241;43m.\u001b[39;49m\u001b[43mcreate\u001b[49m\u001b[43m(\u001b[49m\n\u001b[0;32m      2\u001b[0m \u001b[43m    \u001b[49m\u001b[43mmodel\u001b[49m\u001b[38;5;241;43m=\u001b[39;49m\u001b[38;5;124;43m\"\u001b[39;49m\u001b[38;5;124;43mmeta-llama/Llama-3-70b-chat-hf\u001b[39;49m\u001b[38;5;124;43m\"\u001b[39;49m\u001b[43m,\u001b[49m\n\u001b[0;32m      3\u001b[0m \u001b[43m    \u001b[49m\u001b[43mmessages\u001b[49m\u001b[38;5;241;43m=\u001b[39;49m\u001b[43m[\u001b[49m\n\u001b[0;32m      4\u001b[0m \u001b[43m        \u001b[49m\u001b[43m{\u001b[49m\n\u001b[0;32m      5\u001b[0m \u001b[43m            \u001b[49m\u001b[38;5;124;43m\"\u001b[39;49m\u001b[38;5;124;43mrole\u001b[39;49m\u001b[38;5;124;43m\"\u001b[39;49m\u001b[43m:\u001b[49m\u001b[43m \u001b[49m\u001b[38;5;124;43m\"\u001b[39;49m\u001b[38;5;124;43muser\u001b[39;49m\u001b[38;5;124;43m\"\u001b[39;49m\u001b[43m,\u001b[49m\u001b[43m \u001b[49m\n\u001b[0;32m      6\u001b[0m \u001b[43m            \u001b[49m\u001b[38;5;124;43m\"\u001b[39;49m\u001b[38;5;124;43mcontent\u001b[39;49m\u001b[38;5;124;43m\"\u001b[39;49m\u001b[43m:\u001b[49m\u001b[43m \u001b[49m\u001b[38;5;124;43m\"\u001b[39;49m\u001b[38;5;124;43mhello\u001b[39;49m\u001b[38;5;124;43m\"\u001b[39;49m\n\u001b[0;32m      7\u001b[0m \u001b[43m         \u001b[49m\u001b[43m}\u001b[49m\n\u001b[0;32m      8\u001b[0m \u001b[43m    \u001b[49m\u001b[43m]\u001b[49m\u001b[43m,\u001b[49m\n\u001b[0;32m      9\u001b[0m \u001b[43m)\u001b[49m\n\u001b[0;32m     10\u001b[0m response\u001b[38;5;241m.\u001b[39mchoices[\u001b[38;5;241m0\u001b[39m]\u001b[38;5;241m.\u001b[39mmessage\u001b[38;5;241m.\u001b[39mcontent\n",
      "File \u001b[1;32mc:\\Users\\TurnerZ\\Documents\\GitHub\\SimpliMedi-Search\\.venv\\Lib\\site-packages\\together\\resources\\chat\\completions.py:113\u001b[0m, in \u001b[0;36mChatCompletions.create\u001b[1;34m(self, messages, model, max_tokens, stop, temperature, top_p, top_k, repetition_penalty, stream, logprobs, echo, n, safety_model, response_format, tools, tool_choice)\u001b[0m\n\u001b[0;32m     90\u001b[0m requestor \u001b[38;5;241m=\u001b[39m api_requestor\u001b[38;5;241m.\u001b[39mAPIRequestor(\n\u001b[0;32m     91\u001b[0m     client\u001b[38;5;241m=\u001b[39m\u001b[38;5;28mself\u001b[39m\u001b[38;5;241m.\u001b[39m_client,\n\u001b[0;32m     92\u001b[0m )\n\u001b[0;32m     94\u001b[0m parameter_payload \u001b[38;5;241m=\u001b[39m ChatCompletionRequest(\n\u001b[0;32m     95\u001b[0m     model\u001b[38;5;241m=\u001b[39mmodel,\n\u001b[0;32m     96\u001b[0m     messages\u001b[38;5;241m=\u001b[39mmessages,\n\u001b[1;32m   (...)\u001b[0m\n\u001b[0;32m    110\u001b[0m     tool_choice\u001b[38;5;241m=\u001b[39mtool_choice,\n\u001b[0;32m    111\u001b[0m )\u001b[38;5;241m.\u001b[39mmodel_dump()\n\u001b[1;32m--> 113\u001b[0m response, _, _ \u001b[38;5;241m=\u001b[39m \u001b[43mrequestor\u001b[49m\u001b[38;5;241;43m.\u001b[39;49m\u001b[43mrequest\u001b[49m\u001b[43m(\u001b[49m\n\u001b[0;32m    114\u001b[0m \u001b[43m    \u001b[49m\u001b[43moptions\u001b[49m\u001b[38;5;241;43m=\u001b[39;49m\u001b[43mTogetherRequest\u001b[49m\u001b[43m(\u001b[49m\n\u001b[0;32m    115\u001b[0m \u001b[43m        \u001b[49m\u001b[43mmethod\u001b[49m\u001b[38;5;241;43m=\u001b[39;49m\u001b[38;5;124;43m\"\u001b[39;49m\u001b[38;5;124;43mPOST\u001b[39;49m\u001b[38;5;124;43m\"\u001b[39;49m\u001b[43m,\u001b[49m\n\u001b[0;32m    116\u001b[0m \u001b[43m        \u001b[49m\u001b[43murl\u001b[49m\u001b[38;5;241;43m=\u001b[39;49m\u001b[38;5;124;43m\"\u001b[39;49m\u001b[38;5;124;43mchat/completions\u001b[39;49m\u001b[38;5;124;43m\"\u001b[39;49m\u001b[43m,\u001b[49m\n\u001b[0;32m    117\u001b[0m \u001b[43m        \u001b[49m\u001b[43mparams\u001b[49m\u001b[38;5;241;43m=\u001b[39;49m\u001b[43mparameter_payload\u001b[49m\u001b[43m,\u001b[49m\n\u001b[0;32m    118\u001b[0m \u001b[43m    \u001b[49m\u001b[43m)\u001b[49m\u001b[43m,\u001b[49m\n\u001b[0;32m    119\u001b[0m \u001b[43m    \u001b[49m\u001b[43mstream\u001b[49m\u001b[38;5;241;43m=\u001b[39;49m\u001b[43mstream\u001b[49m\u001b[43m,\u001b[49m\n\u001b[0;32m    120\u001b[0m \u001b[43m\u001b[49m\u001b[43m)\u001b[49m\n\u001b[0;32m    122\u001b[0m \u001b[38;5;28;01mif\u001b[39;00m stream:\n\u001b[0;32m    123\u001b[0m     \u001b[38;5;66;03m# must be an iterator\u001b[39;00m\n\u001b[0;32m    124\u001b[0m     \u001b[38;5;28;01massert\u001b[39;00m \u001b[38;5;129;01mnot\u001b[39;00m \u001b[38;5;28misinstance\u001b[39m(response, TogetherResponse)\n",
      "File \u001b[1;32mc:\\Users\\TurnerZ\\Documents\\GitHub\\SimpliMedi-Search\\.venv\\Lib\\site-packages\\together\\abstract\\api_requestor.py:249\u001b[0m, in \u001b[0;36mAPIRequestor.request\u001b[1;34m(self, options, stream, remaining_retries, request_timeout)\u001b[0m\n\u001b[0;32m    231\u001b[0m \u001b[38;5;28;01mdef\u001b[39;00m \u001b[38;5;21mrequest\u001b[39m(\n\u001b[0;32m    232\u001b[0m     \u001b[38;5;28mself\u001b[39m,\n\u001b[0;32m    233\u001b[0m     options: TogetherRequest,\n\u001b[1;32m   (...)\u001b[0m\n\u001b[0;32m    240\u001b[0m     \u001b[38;5;28mstr\u001b[39m \u001b[38;5;241m|\u001b[39m \u001b[38;5;28;01mNone\u001b[39;00m,\n\u001b[0;32m    241\u001b[0m ]:\n\u001b[0;32m    242\u001b[0m     result \u001b[38;5;241m=\u001b[39m \u001b[38;5;28mself\u001b[39m\u001b[38;5;241m.\u001b[39mrequest_raw(\n\u001b[0;32m    243\u001b[0m         options\u001b[38;5;241m=\u001b[39moptions,\n\u001b[0;32m    244\u001b[0m         remaining_retries\u001b[38;5;241m=\u001b[39mremaining_retries \u001b[38;5;129;01mor\u001b[39;00m \u001b[38;5;28mself\u001b[39m\u001b[38;5;241m.\u001b[39mretries,\n\u001b[0;32m    245\u001b[0m         stream\u001b[38;5;241m=\u001b[39mstream,\n\u001b[0;32m    246\u001b[0m         request_timeout\u001b[38;5;241m=\u001b[39mrequest_timeout,\n\u001b[0;32m    247\u001b[0m     )\n\u001b[1;32m--> 249\u001b[0m     resp, got_stream \u001b[38;5;241m=\u001b[39m \u001b[38;5;28;43mself\u001b[39;49m\u001b[38;5;241;43m.\u001b[39;49m\u001b[43m_interpret_response\u001b[49m\u001b[43m(\u001b[49m\u001b[43mresult\u001b[49m\u001b[43m,\u001b[49m\u001b[43m \u001b[49m\u001b[43mstream\u001b[49m\u001b[43m)\u001b[49m\n\u001b[0;32m    250\u001b[0m     \u001b[38;5;28;01mreturn\u001b[39;00m resp, got_stream, \u001b[38;5;28mself\u001b[39m\u001b[38;5;241m.\u001b[39mapi_key\n",
      "File \u001b[1;32mc:\\Users\\TurnerZ\\Documents\\GitHub\\SimpliMedi-Search\\.venv\\Lib\\site-packages\\together\\abstract\\api_requestor.py:620\u001b[0m, in \u001b[0;36mAPIRequestor._interpret_response\u001b[1;34m(self, result, stream)\u001b[0m\n\u001b[0;32m    612\u001b[0m     \u001b[38;5;28;01mreturn\u001b[39;00m (\n\u001b[0;32m    613\u001b[0m         \u001b[38;5;28mself\u001b[39m\u001b[38;5;241m.\u001b[39m_interpret_response_line(\n\u001b[0;32m    614\u001b[0m             line, result\u001b[38;5;241m.\u001b[39mstatus_code, result\u001b[38;5;241m.\u001b[39mheaders, stream\u001b[38;5;241m=\u001b[39m\u001b[38;5;28;01mTrue\u001b[39;00m\n\u001b[0;32m    615\u001b[0m         )\n\u001b[0;32m    616\u001b[0m         \u001b[38;5;28;01mfor\u001b[39;00m line \u001b[38;5;129;01min\u001b[39;00m parse_stream(result\u001b[38;5;241m.\u001b[39miter_lines())\n\u001b[0;32m    617\u001b[0m     ), \u001b[38;5;28;01mTrue\u001b[39;00m\n\u001b[0;32m    618\u001b[0m \u001b[38;5;28;01melse\u001b[39;00m:\n\u001b[0;32m    619\u001b[0m     \u001b[38;5;28;01mreturn\u001b[39;00m (\n\u001b[1;32m--> 620\u001b[0m         \u001b[38;5;28;43mself\u001b[39;49m\u001b[38;5;241;43m.\u001b[39;49m\u001b[43m_interpret_response_line\u001b[49m\u001b[43m(\u001b[49m\n\u001b[0;32m    621\u001b[0m \u001b[43m            \u001b[49m\u001b[43mresult\u001b[49m\u001b[38;5;241;43m.\u001b[39;49m\u001b[43mcontent\u001b[49m\u001b[38;5;241;43m.\u001b[39;49m\u001b[43mdecode\u001b[49m\u001b[43m(\u001b[49m\u001b[38;5;124;43m\"\u001b[39;49m\u001b[38;5;124;43mutf-8\u001b[39;49m\u001b[38;5;124;43m\"\u001b[39;49m\u001b[43m)\u001b[49m\u001b[43m,\u001b[49m\n\u001b[0;32m    622\u001b[0m \u001b[43m            \u001b[49m\u001b[43mresult\u001b[49m\u001b[38;5;241;43m.\u001b[39;49m\u001b[43mstatus_code\u001b[49m\u001b[43m,\u001b[49m\n\u001b[0;32m    623\u001b[0m \u001b[43m            \u001b[49m\u001b[43mresult\u001b[49m\u001b[38;5;241;43m.\u001b[39;49m\u001b[43mheaders\u001b[49m\u001b[43m,\u001b[49m\n\u001b[0;32m    624\u001b[0m \u001b[43m            \u001b[49m\u001b[43mstream\u001b[49m\u001b[38;5;241;43m=\u001b[39;49m\u001b[38;5;28;43;01mFalse\u001b[39;49;00m\u001b[43m,\u001b[49m\n\u001b[0;32m    625\u001b[0m \u001b[43m        \u001b[49m\u001b[43m)\u001b[49m,\n\u001b[0;32m    626\u001b[0m         \u001b[38;5;28;01mFalse\u001b[39;00m,\n\u001b[0;32m    627\u001b[0m     )\n",
      "File \u001b[1;32mc:\\Users\\TurnerZ\\Documents\\GitHub\\SimpliMedi-Search\\.venv\\Lib\\site-packages\\together\\abstract\\api_requestor.py:680\u001b[0m, in \u001b[0;36mAPIRequestor._interpret_response_line\u001b[1;34m(self, rbody, rcode, rheaders, stream)\u001b[0m\n\u001b[0;32m    678\u001b[0m         data \u001b[38;5;241m=\u001b[39m json\u001b[38;5;241m.\u001b[39mloads(rbody)\n\u001b[0;32m    679\u001b[0m \u001b[38;5;28;01mexcept\u001b[39;00m (JSONDecodeError, \u001b[38;5;167;01mUnicodeDecodeError\u001b[39;00m) \u001b[38;5;28;01mas\u001b[39;00m e:\n\u001b[1;32m--> 680\u001b[0m     \u001b[38;5;28;01mraise\u001b[39;00m error\u001b[38;5;241m.\u001b[39mAPIError(\n\u001b[0;32m    681\u001b[0m         \u001b[38;5;124mf\u001b[39m\u001b[38;5;124m\"\u001b[39m\u001b[38;5;124mError code: \u001b[39m\u001b[38;5;132;01m{\u001b[39;00mrcode\u001b[38;5;132;01m}\u001b[39;00m\u001b[38;5;124m -\u001b[39m\u001b[38;5;132;01m{\u001b[39;00mrbody\u001b[38;5;132;01m}\u001b[39;00m\u001b[38;5;124m\"\u001b[39m,\n\u001b[0;32m    682\u001b[0m         http_status\u001b[38;5;241m=\u001b[39mrcode,\n\u001b[0;32m    683\u001b[0m         headers\u001b[38;5;241m=\u001b[39mrheaders,\n\u001b[0;32m    684\u001b[0m     ) \u001b[38;5;28;01mfrom\u001b[39;00m \u001b[38;5;21;01me\u001b[39;00m\n\u001b[0;32m    685\u001b[0m resp \u001b[38;5;241m=\u001b[39m TogetherResponse(data, rheaders)\n\u001b[0;32m    687\u001b[0m \u001b[38;5;66;03m# Handle streaming errors\u001b[39;00m\n",
      "\u001b[1;31mAPIError\u001b[0m: Error code: 524 - Error code: 524 -<!DOCTYPE html>\n<!--[if lt IE 7]> <html class=\"no-js ie6 oldie\" lang=\"en-US\"> <![endif]-->\n<!--[if IE 7]>    <html class=\"no-js ie7 oldie\" lang=\"en-US\"> <![endif]-->\n<!--[if IE 8]>    <html class=\"no-js ie8 oldie\" lang=\"en-US\"> <![endif]-->\n<!--[if gt IE 8]><!--> <html class=\"no-js\" lang=\"en-US\"> <!--<![endif]-->\n<head>\n\n\n<title>api.together.xyz | 524: A timeout occurred</title>\n<meta charset=\"UTF-8\" />\n<meta http-equiv=\"Content-Type\" content=\"text/html; charset=UTF-8\" />\n<meta http-equiv=\"X-UA-Compatible\" content=\"IE=Edge\" />\n<meta name=\"robots\" content=\"noindex, nofollow\" />\n<meta name=\"viewport\" content=\"width=device-width,initial-scale=1\" />\n<link rel=\"stylesheet\" id=\"cf_styles-css\" href=\"/cdn-cgi/styles/main.css\" />\n\n\n</head>\n<body>\n<div id=\"cf-wrapper\">\n    <div id=\"cf-error-details\" class=\"p-0\">\n        <header class=\"mx-auto pt-10 lg:pt-6 lg:px-8 w-240 lg:w-full mb-8\">\n            <h1 class=\"inline-block sm:block sm:mb-2 font-light text-60 lg:text-4xl text-black-dark leading-tight mr-2\">\n              <span class=\"inline-block\">A timeout occurred</span>\n              <span class=\"code-label\">Error code 524</span>\n            </h1>\n            <div>\n               Visit <a href=\"https://www.cloudflare.com/5xx-error-landing?utm_source=errorcode_524&utm_campaign=api.together.xyz\" target=\"_blank\" rel=\"noopener noreferrer\">cloudflare.com</a> for more information.\n            </div>\n            <div class=\"mt-3\">2024-04-19 15:26:23 UTC</div>\n        </header>\n        <div class=\"my-8 bg-gradient-gray\">\n            <div class=\"w-240 lg:w-full mx-auto\">\n                <div class=\"clearfix md:px-8\">\n                  \n<div id=\"cf-browser-status\" class=\" relative w-1/3 md:w-full py-15 md:p-0 md:py-8 md:text-left md:border-solid md:border-0 md:border-b md:border-gray-400 overflow-hidden float-left md:float-none text-center\">\n  <div class=\"relative mb-10 md:m-0\">\n    \n    <span class=\"cf-icon-browser block md:hidden h-20 bg-center bg-no-repeat\"></span>\n    <span class=\"cf-icon-ok w-12 h-12 absolute left-1/2 md:left-auto md:right-0 md:top-0 -ml-6 -bottom-4\"></span>\n    \n  </div>\n  <span class=\"md:block w-full truncate\">You</span>\n  <h3 class=\"md:inline-block mt-3 md:mt-0 text-2xl text-gray-600 font-light leading-1.3\">\n    \n    Browser\n    \n  </h3>\n  <span class=\"leading-1.3 text-2xl text-green-success\">Working</span>\n</div>\n\n<div id=\"cf-cloudflare-status\" class=\" relative w-1/3 md:w-full py-15 md:p-0 md:py-8 md:text-left md:border-solid md:border-0 md:border-b md:border-gray-400 overflow-hidden float-left md:float-none text-center\">\n  <div class=\"relative mb-10 md:m-0\">\n    <a href=\"https://www.cloudflare.com/5xx-error-landing?utm_source=errorcode_524&utm_campaign=api.together.xyz\" target=\"_blank\" rel=\"noopener noreferrer\">\n    <span class=\"cf-icon-cloud block md:hidden h-20 bg-center bg-no-repeat\"></span>\n    <span class=\"cf-icon-ok w-12 h-12 absolute left-1/2 md:left-auto md:right-0 md:top-0 -ml-6 -bottom-4\"></span>\n    </a>\n  </div>\n  <span class=\"md:block w-full truncate\">Lisbon</span>\n  <h3 class=\"md:inline-block mt-3 md:mt-0 text-2xl text-gray-600 font-light leading-1.3\">\n    <a href=\"https://www.cloudflare.com/5xx-error-landing?utm_source=errorcode_524&utm_campaign=api.together.xyz\" target=\"_blank\" rel=\"noopener noreferrer\">\n    Cloudflare\n    </a>\n  </h3>\n  <span class=\"leading-1.3 text-2xl text-green-success\">Working</span>\n</div>\n\n<div id=\"cf-host-status\" class=\"cf-error-source relative w-1/3 md:w-full py-15 md:p-0 md:py-8 md:text-left md:border-solid md:border-0 md:border-b md:border-gray-400 overflow-hidden float-left md:float-none text-center\">\n  <div class=\"relative mb-10 md:m-0\">\n    \n    <span class=\"cf-icon-server block md:hidden h-20 bg-center bg-no-repeat\"></span>\n    <span class=\"cf-icon-error w-12 h-12 absolute left-1/2 md:left-auto md:right-0 md:top-0 -ml-6 -bottom-4\"></span>\n    \n  </div>\n  <span class=\"md:block w-full truncate\">api.together.xyz</span>\n  <h3 class=\"md:inline-block mt-3 md:mt-0 text-2xl text-gray-600 font-light leading-1.3\">\n    \n    Host\n    \n  </h3>\n  <span class=\"leading-1.3 text-2xl text-red-error\">Error</span>\n</div>\n\n                </div>\n            </div>\n        </div>\n\n        <div class=\"w-240 lg:w-full mx-auto mb-8 lg:px-8\">\n            <div class=\"clearfix\">\n                <div class=\"w-1/2 md:w-full float-left pr-6 md:pb-10 md:pr-0 leading-relaxed\">\n                    <h2 class=\"text-3xl font-normal leading-1.3 mb-4\">What happened?</h2>\n                    <p>The origin web server timed out responding to this request.</p>\n                </div>\n                <div class=\"w-1/2 md:w-full float-left leading-relaxed\">\n                    <h2 class=\"text-3xl font-normal leading-1.3 mb-4\">What can I do?</h2>\n                          <h3 class=\"text-15 font-semibold mb-2\">If you're a visitor of this website:</h3>\n      <p class=\"mb-6\">Please try again in a few minutes.</p>\n\n      <h3 class=\"text-15 font-semibold mb-2\">If you're the owner of this website:</h3>\n      <p><span>The connection to the origin web server was made, but the origin web server timed out before responding. The likely cause is an overloaded background task, database or application, stressing the resources on your web server. To resolve, please work with your hosting provider or web development team to free up resources for your database or overloaded application.</span> <a rel=\"noopener noreferrer\" href=\"https://support.cloudflare.com/hc/en-us/articles/200171926-Error-524\">Additional troubleshooting information here.</a></p>\n                </div>\n            </div>\n        </div>\n\n        <div class=\"cf-error-footer cf-wrapper w-240 lg:w-full py-10 sm:py-4 sm:px-8 mx-auto text-center sm:text-left border-solid border-0 border-t border-gray-300\">\n  <p class=\"text-13\">\n    <span class=\"cf-footer-item sm:block sm:mb-1\">Cloudflare Ray ID: <strong class=\"font-semibold\">876de730f9b36935</strong></span>\n    <span class=\"cf-footer-separator sm:hidden\">&bull;</span>\n    <span id=\"cf-footer-item-ip\" class=\"cf-footer-item hidden sm:block sm:mb-1\">\n      Your IP:\n      <button type=\"button\" id=\"cf-footer-ip-reveal\" class=\"cf-footer-ip-reveal-btn\">Click to reveal</button>\n      <span class=\"hidden\" id=\"cf-footer-ip\">154.161.20.227</span>\n      <span class=\"cf-footer-separator sm:hidden\">&bull;</span>\n    </span>\n    <span class=\"cf-footer-item sm:block sm:mb-1\"><span>Performance &amp; security by</span> <a rel=\"noopener noreferrer\" href=\"https://www.cloudflare.com/5xx-error-landing?utm_source=errorcode_524&utm_campaign=api.together.xyz\" id=\"brand_link\" target=\"_blank\">Cloudflare</a></span>\n    \n  </p>\n  <script>(function(){function d(){var b=a.getElementById(\"cf-footer-item-ip\"),c=a.getElementById(\"cf-footer-ip-reveal\");b&&\"classList\"in b&&(b.classList.remove(\"hidden\"),c.addEventListener(\"click\",function(){c.classList.add(\"hidden\");a.getElementById(\"cf-footer-ip\").classList.remove(\"hidden\")}))}var a=document;document.addEventListener&&a.addEventListener(\"DOMContentLoaded\",d)})();</script>\n</div><!-- /.error-footer -->\n\n\n    </div>\n</div>\n</body>\n</html>\n"
     ]
    }
   ],
   "source": [
    "response = client.chat.completions.create(\n",
    "    model=\"meta-llama/Llama-3-70b-chat-hf\",\n",
    "    messages=[\n",
    "        {\n",
    "            \"role\": \"user\", \n",
    "            \"content\": \"hello\"\n",
    "         }\n",
    "    ],\n",
    ")\n",
    "response.choices[0].message.content"
   ]
  },
  {
   "cell_type": "code",
   "execution_count": 6,
   "metadata": {},
   "outputs": [
    {
     "data": {
      "text/plain": [
       "\"The city that never sleeps! New York City is a vibrant and exciting destination that offers something for everyone. Here are some fun things to do in New York:\\n\\n**Iconic Landmarks and Attractions:**\\n\\n1. Visit the Statue of Liberty and Ellis Island: Take a ferry to Liberty Island to see up close the iconic statue and learn about its history at the nearby Ellis Island Immigration Museum.\\n2. Explore the Empire State Building: Enjoy panoramic views of the city from the observation deck of this iconic skyscraper.\\n3. Walk across the Brooklyn Bridge: Take in the stunning views of the Manhattan skyline and the East River while walking across this historic bridge.\\n4. Visit the 9/11 Memorial & Museum: A poignant tribute to the victims of the 9/11 attacks, featuring two massive reflecting pools surrounded by the names of those who were killed.\\n\\n**Museums and Galleries:**\\n\\n1. The Metropolitan Museum of Art (The Met): One of the world's largest and most famous museums, with a collection that spans over 5,000 years of human history.\\n2. The Museum of Modern Art (MoMA): A must-visit for modern art enthusiasts, with a collection that includes works by Warhol, Pollock, and Matisse.\\n3. The Guggenheim Museum: Designed by Frank Lloyd Wright, this museum features a unique spiral architecture and an impressive collection of modern and contemporary art.\\n4. The American Museum of Natural History: Explore the wonders of the natural world, from dinosaurs to space exploration.\\n\\n**Performing Arts and Entertainment:**\\n\\n1. Catch a Broadway Show: From classic musicals to contemporary hits, Broadway offers something for everyone.\\n2. Visit Carnegie Hall: One of the most prestigious concert venues in the world, hosting performances by top musicians and orchestras.\\n3. Explore the Lincoln Center: A hub for performing arts, featuring the New York City Ballet, the Metropolitan Opera, and the Juilliard School.\\n4. Take a TV Show Taping Tour: Visit the studios of popular TV shows like Saturday Night Live, The Tonight Show, or Good Morning America.\\n\\n**Food and Markets:**\\n\\n1. Visit Smorgasburg: A weekly outdoor food market in Brooklyn featuring over 100 local vendors.\\n2. Explore Chinatown and Little Italy: Sample the diverse culinary delights of these vibrant neighborhoods.\\n3. Try a Classic New York-Style Pizza: Visit iconic pizzerias like Lombardi's, Joe's Pizza, or Patsy's Pizzeria.\\n4. Visit the Grand Central Market: A bustling marketplace in the heart of Grand Central Terminal, offering a variety of food, drinks, and shopping.\\n\\n**Parks and Outdoor Activities:**\\n\\n1. Central Park: A tranquil oasis in the middle of Manhattan, offering walking paths, lakes, and plenty of green space.\\n2. Take a Stroll along the High Line: An elevated park built on an old rail line, featuring great city views and public art installations.\\n3. Visit Prospect Park: A beautiful park in Brooklyn with a lake, walking trails, and plenty of picnic spots.\\n4. Go Kayaking on the Hudson River: Rent a kayak and explore the city's waterways with a unique perspective.\\n\\n**Neighborhoods to Explore:**\\n\\n1. SoHo: Known for its trendy boutiques, art galleries, and cast-iron buildings.\\n2. Greenwich Village: A charming neighborhood with a rich history, featuring historic brownstones and lively nightlife.\\n3. Williamsburg: A hip neighborhood in Brooklyn with a thriving arts scene, trendy bars, and vintage shops.\\n4. Harlem: A vibrant neighborhood with a rich cultural heritage, featuring historic landmarks like the Apollo Theater.\\n\\nThese are just a few of the many fun things to do in New York City. With so much to see and do, you're sure to have an unforgettable experience in the city that never sleeps!\""
      ]
     },
     "execution_count": 6,
     "metadata": {},
     "output_type": "execute_result"
    }
   ],
   "source": []
  },
  {
   "cell_type": "code",
   "execution_count": 2,
   "metadata": {},
   "outputs": [
    {
     "data": {
      "text/plain": [
       "'Hello! How are you today?'"
      ]
     },
     "execution_count": 2,
     "metadata": {},
     "output_type": "execute_result"
    }
   ],
   "source": [
    "from openai import OpenAI\n",
    "api_key = os.environ.get(\"OPENAI_API_KEY\") \n",
    "client = OpenAI(api_key=api_key,)\n",
    "chat_completion = client.chat.completions.create(\n",
    "    messages=[{\"role\": \"user\", \"content\": \"hello\"}],\n",
    "    model=\"gpt-3.5-turbo\",\n",
    ")\n",
    "chat_completion.choices[0].message.content"
   ]
  }
 ],
 "metadata": {
  "kernelspec": {
   "display_name": ".venv",
   "language": "python",
   "name": "python3"
  },
  "language_info": {
   "codemirror_mode": {
    "name": "ipython",
    "version": 3
   },
   "file_extension": ".py",
   "mimetype": "text/x-python",
   "name": "python",
   "nbconvert_exporter": "python",
   "pygments_lexer": "ipython3",
   "version": "3.11.3"
  }
 },
 "nbformat": 4,
 "nbformat_minor": 2
}
